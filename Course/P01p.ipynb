{
  "nbformat": 4,
  "nbformat_minor": 5,
  "metadata": {
    "kernelspec": {
      "display_name": "Python 3",
      "language": "python",
      "name": "python3"
    },
    "language_info": {
      "codemirror_mode": {
        "name": "ipython",
        "version": 3
      },
      "file_extension": ".py",
      "mimetype": "text/x-python",
      "name": "python",
      "nbconvert_exporter": "python",
      "pygments_lexer": "ipython3",
      "version": "3.7.6"
    },
    "colab": {
      "name": "P01p.ipynb",
      "provenance": [],
      "collapsed_sections": [],
      "include_colab_link": true
    }
  },
  "cells": [
    {
      "cell_type": "markdown",
      "metadata": {
        "id": "view-in-github",
        "colab_type": "text"
      },
      "source": [
        "<a href=\"https://colab.research.google.com/github/p09323028/2021f_NTU_Data-Science-and-Social-Inquiry/blob/main/Course/P01p.ipynb\" target=\"_parent\"><img src=\"https://colab.research.google.com/assets/colab-badge.svg\" alt=\"Open In Colab\"/></a>"
      ]
    },
    {
      "cell_type": "markdown",
      "metadata": {
        "id": "fdb51112"
      },
      "source": [
        "# Self-Quiz: Counting departments\n",
        "以下的stu_list為一群修課生的科系，現在要列數每個科系有多少人修課。"
      ],
      "id": "fdb51112"
    },
    {
      "cell_type": "code",
      "metadata": {
        "id": "e7da9ef7"
      },
      "source": [
        "stu_dict = {}\n",
        "stu_list = [\"soc\", \"soc\", \"econ\", \"bio\", \"psy\", \"psy\", \"econ\", \"poli\", \"econ\"]"
      ],
      "id": "e7da9ef7",
      "execution_count": null,
      "outputs": []
    },
    {
      "cell_type": "markdown",
      "metadata": {
        "id": "3c4efa89"
      },
      "source": [
        "## Counting with for-loop\n",
        "以下為其中一種可能的寫法，不盡然要照著邏輯寫，可以自己寫寫看。\n",
        "```\n",
        "Output:\n",
        "{'soc': 2, 'econ': 3, 'bio': 1, 'psy': 2, 'poli': 1}`\n",
        "```"
      ],
      "id": "3c4efa89"
    },
    {
      "cell_type": "code",
      "metadata": {
        "id": "580c5f1f",
        "colab": {
          "base_uri": "https://localhost:8080/"
        },
        "outputId": "c65242e1-edec-4c85-df69-f10ee2defa5d"
      },
      "source": [
        "stu_dict = {}\n",
        "for key in stu_list:\n",
        "    if key not in stu_dict:\n",
        "        stu_dict[key] = 1\n",
        "    else:\n",
        "        stu_dict[key] += 1\n",
        "print(stu_dict)"
      ],
      "id": "580c5f1f",
      "execution_count": null,
      "outputs": [
        {
          "output_type": "stream",
          "name": "stdout",
          "text": [
            "{'soc': 2, 'econ': 3, 'bio': 1, 'psy': 2, 'poli': 1}\n"
          ]
        }
      ]
    },
    {
      "cell_type": "markdown",
      "metadata": {
        "id": "54144896"
      },
      "source": [
        "## Print out all keys and value()\n",
        "```\n",
        "Output：\n",
        "dict_keys(['soc', 'econ', 'bio', 'psy', 'poli'])\n",
        "dict_values([2, 3, 1, 2, 1])\n",
        "```"
      ],
      "id": "54144896"
    },
    {
      "cell_type": "code",
      "metadata": {
        "id": "6ab59ebd",
        "colab": {
          "base_uri": "https://localhost:8080/"
        },
        "outputId": "51a0d24b-9336-4d51-fd22-7a801908c74e"
      },
      "source": [
        "print(stu_dict.keys())\n",
        "print(stu_dict.values())"
      ],
      "id": "6ab59ebd",
      "execution_count": null,
      "outputs": [
        {
          "output_type": "stream",
          "name": "stdout",
          "text": [
            "dict_keys(['soc', 'econ', 'bio', 'psy', 'poli'])\n",
            "dict_values([2, 3, 1, 2, 1])\n"
          ]
        }
      ]
    },
    {
      "cell_type": "markdown",
      "metadata": {
        "id": "534827d7"
      },
      "source": [
        "## Print out all pairs by items()\n",
        "```\n",
        "Output: \n",
        "dict_items([('soc', 2), ('econ', 3), ('bio', 1), ('psy', 2), ('poli', 1)])\n",
        "```"
      ],
      "id": "534827d7"
    },
    {
      "cell_type": "code",
      "metadata": {
        "id": "d6baf826",
        "colab": {
          "base_uri": "https://localhost:8080/"
        },
        "outputId": "e79f6a90-f990-4fdf-e744-09b3c6903657"
      },
      "source": [
        "print(stu_dict.items())"
      ],
      "id": "d6baf826",
      "execution_count": null,
      "outputs": [
        {
          "output_type": "stream",
          "name": "stdout",
          "text": [
            "dict_items([('soc', 2), ('econ', 3), ('bio', 1), ('psy', 2), ('poli', 1)])\n"
          ]
        }
      ]
    },
    {
      "cell_type": "markdown",
      "metadata": {
        "id": "e54b8096"
      },
      "source": [
        "## Counting by Counter()\n",
        "```\n",
        "Output:\n",
        "Counter({'econ': 3, 'soc': 2, 'psy': 2, 'bio': 1, 'poli': 1})\n",
        "econ 3\n",
        "soc 2\n",
        "psy 2\n",
        "bio 1\n",
        "poli 1\n",
        "```"
      ],
      "id": "e54b8096"
    },
    {
      "cell_type": "code",
      "metadata": {
        "id": "012f6241",
        "colab": {
          "base_uri": "https://localhost:8080/"
        },
        "outputId": "2138112e-73c1-499c-d470-2adb80d2c85f"
      },
      "source": [
        "from collections import Counter\n",
        "\n",
        "stu_count = Counter(stu_list)\n",
        "print(stu_count)\n",
        "\n",
        "for k, v, in stu_count.most_common():  # class method: most_common\n",
        "    print(k, v)"
      ],
      "id": "012f6241",
      "execution_count": null,
      "outputs": [
        {
          "output_type": "stream",
          "name": "stdout",
          "text": [
            "Counter({'econ': 3, 'soc': 2, 'psy': 2, 'bio': 1, 'poli': 1})\n",
            "econ 3\n",
            "soc 2\n",
            "psy 2\n",
            "bio 1\n",
            "poli 1\n"
          ]
        }
      ]
    }
  ]
}