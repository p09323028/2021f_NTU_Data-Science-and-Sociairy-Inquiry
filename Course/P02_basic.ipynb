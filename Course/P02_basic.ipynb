{
  "nbformat": 4,
  "nbformat_minor": 0,
  "metadata": {
    "colab": {
      "name": "P02_basic.ipynb",
      "provenance": [],
      "collapsed_sections": [],
      "include_colab_link": true
    },
    "kernelspec": {
      "display_name": "Python 3",
      "language": "python",
      "name": "python3"
    },
    "language_info": {
      "codemirror_mode": {
        "name": "ipython",
        "version": 3
      },
      "file_extension": ".py",
      "mimetype": "text/x-python",
      "name": "python",
      "nbconvert_exporter": "python",
      "pygments_lexer": "ipython3",
      "version": "3.7.6"
    },
    "toc": {
      "base_numbering": 1,
      "nav_menu": {},
      "number_sections": true,
      "sideBar": true,
      "skip_h1_title": false,
      "title_cell": "Table of Contents",
      "title_sidebar": "Contents",
      "toc_cell": false,
      "toc_position": {},
      "toc_section_display": true,
      "toc_window_display": true
    },
    "toc-autonumbering": false,
    "toc-showcode": false,
    "toc-showmarkdowntxt": false,
    "toc-showtags": false,
    "varInspector": {
      "cols": {
        "lenName": 16,
        "lenType": 16,
        "lenVar": 40
      },
      "kernels_config": {
        "python": {
          "delete_cmd_postfix": "",
          "delete_cmd_prefix": "del ",
          "library": "var_list.py",
          "varRefreshCmd": "print(var_dic_list())"
        },
        "r": {
          "delete_cmd_postfix": ") ",
          "delete_cmd_prefix": "rm(",
          "library": "var_list.r",
          "varRefreshCmd": "cat(var_dic_list()) "
        }
      },
      "types_to_exclude": [
        "module",
        "function",
        "builtin_function_or_method",
        "instance",
        "_Feature"
      ],
      "window_display": false
    }
  },
  "cells": [
    {
      "cell_type": "markdown",
      "metadata": {
        "id": "view-in-github",
        "colab_type": "text"
      },
      "source": [
        "<a href=\"https://colab.research.google.com/github/p09323028/2021f_NTU_Data-Science-and-Social-Inquiry/blob/main/Course/P02_basic.ipynb\" target=\"_parent\"><img src=\"https://colab.research.google.com/assets/colab-badge.svg\" alt=\"Open In Colab\"/></a>"
      ]
    },
    {
      "cell_type": "markdown",
      "metadata": {
        "id": "hzg-pAHOWMd5"
      },
      "source": [
        "# Resource\n",
        "* [Slide: Py02 Basic](https://docs.google.com/presentation/d/e/2PACX-1vSlofAj4mFI_gXntfgMTelq-9qKHj1XE6-36DI87vGoKdyW9vaF-jeJzZqGIT7d-kknaQQc4M4DfROx/pub?start=false&loop=false&delayms=3000)\n",
        "* [Github repo: P4CSS/PSS](https://github.com/P4CSS/PSS)"
      ]
    },
    {
      "cell_type": "markdown",
      "metadata": {
        "id": "rSa4e2fkV4wE"
      },
      "source": [
        "# Outline\n",
        "\n",
        "1. Print and print format\n",
        "2. Variables\n",
        "3. Arithemetic operations\n",
        "4. Example: Converting temperature format"
      ]
    },
    {
      "cell_type": "markdown",
      "metadata": {
        "id": "TfL6xn2sV4wJ"
      },
      "source": [
        "# print\n",
        "可用於印出字串、數字、以及變數的內容。若是一個變數的話，會印出變數的內容；若是一個「運算式」的話，會印出運算式的結果。語法是`print()`。"
      ]
    },
    {
      "cell_type": "code",
      "metadata": {
        "id": "Y8cXws78LhNG",
        "colab": {
          "base_uri": "https://localhost:8080/"
        },
        "outputId": "8618d053-b5bd-4f27-ec69-9e80bc54ead8"
      },
      "source": [
        "# print \"hello world\" and specifying string by '' or \"\"\n",
        "print(\"hello world\")\n",
        "print('hello world')\n",
        "\n",
        "# print '\"hello world\"' \n",
        "print('\"hello world\"')\n",
        "\n",
        "# print multiple \"-\" by multiplication *\n",
        "print(\"-\" * 10)\n",
        "\n",
        "# print a number\n",
        "print(1006)\n",
        "\n",
        "# print an arithmetic expression  123*345-(188*123) = \n",
        "print(123*345-(188*123))\n",
        "\n",
        "# print the above arithmetic expression by string\n",
        "print(\"123*345-(188*123) = \")"
      ],
      "execution_count": null,
      "outputs": [
        {
          "output_type": "stream",
          "name": "stdout",
          "text": [
            "hello world\n",
            "hello world\n",
            "\"hello world\"\n",
            "----------\n",
            "1006\n",
            "19311\n",
            "123*345-(188*123) = \n"
          ]
        }
      ]
    },
    {
      "cell_type": "markdown",
      "metadata": {
        "id": "DtSjUi5sV4wL"
      },
      "source": [
        "## Print multiple terms\n",
        "「`,`」在`print()`中可列印數個變數或值。可以把它想像成「接下去印」的意思。"
      ]
    },
    {
      "cell_type": "code",
      "metadata": {
        "ExecuteTime": {
          "end_time": "2020-03-17T02:41:59.841939Z",
          "start_time": "2020-03-17T02:41:59.838671Z"
        },
        "id": "R6yfVvg1V4wL",
        "colab": {
          "base_uri": "https://localhost:8080/"
        },
        "outputId": "9655dccd-a015-4950-df6d-a046e84526ae"
      },
      "source": [
        "# print 123*345-(188*123) = 19311 \n",
        "print(\"123*345-(188*123) = 19311\")\n",
        "\n",
        "# print a sequence of strings separated by comma, \n",
        "print(\"123*345-(188*123) =\", 123*345-(188*123) )\n"
      ],
      "execution_count": null,
      "outputs": [
        {
          "output_type": "stream",
          "name": "stdout",
          "text": [
            "123*345-(188*123) = 19311\n",
            "123*345-(188*123) = 19311\n"
          ]
        }
      ]
    },
    {
      "cell_type": "markdown",
      "metadata": {
        "id": "LfRe0WwPV4wM"
      },
      "source": [
        "## Print tab and newline\n",
        "在程式語言中，`\\t`代表一個tab，`\\n`代表使用者敲Enter下去時所產生的換行符號（Newline）。這些也可以用`print()`列印出來。"
      ]
    },
    {
      "cell_type": "code",
      "metadata": {
        "ExecuteTime": {
          "end_time": "2020-03-17T02:43:26.296920Z",
          "start_time": "2020-03-17T02:43:26.294023Z"
        },
        "id": "tfJoTVEwV4wM",
        "colab": {
          "base_uri": "https://localhost:8080/"
        },
        "outputId": "0cf19c50-9bac-49d1-8c34-484533caf6ec"
      },
      "source": [
        "# print a sequence of strings with newline \\n\n",
        "# print some strings in the follow format\n",
        "# \tMy name is  jilung hsieh\n",
        "# \tmy age is  36\n",
        "print(\"My name is Jin-ze,\\nI am 30 years old.\")\n"
      ],
      "execution_count": null,
      "outputs": [
        {
          "output_type": "stream",
          "name": "stdout",
          "text": [
            "My name is Jin-ze,\n",
            "I am 30 years old.\n"
          ]
        }
      ]
    },
    {
      "cell_type": "markdown",
      "metadata": {
        "id": "8lyOmqh0V4wM"
      },
      "source": [
        "# Variable\n",
        "\n",
        "## Assignment  =\n",
        "\n",
        "**自右而左的Assignment：**在幾乎所有的程式語言中，`=`的記號均為assignment，意是把右方演算的結果，Assign（指派）給左方的變數。是的，左方幾乎都是變數。且右方的資料如果是整數，Assign給左方時，左方就是個整數。\n",
        "\n",
        "**那「等於」的符號是什麼？**如果想要在程式語言中表達「相等」，通常是連續兩個等號`==`，例如`1/2 == 4/2`，為邏輯運算式，邏輯運算的結果會得到`true`或`false`。\n",
        "\n",
        "在Python中最特別的是，Assignment的使用可以多對多，例如`a, b = 1, 2`\n",
        "\n",
        "## Naming of variables\n",
        "\n",
        "* 不可用數字開始，例如`123b = 13a + 14b`。當然也不可以是中文。\n",
        "* 中間不得有空白，例如`my book = 13a + 14b` (why?)\n",
        "* 不可使用[reserved word](https://docs.python.org/2.5/ref/keywords.html)(why?)   \n",
        "* 關於Python程式寫作的風格，可參考[PEP 0008](https://www.python.org/dev/peps/pep-0008/)，其中，[Naming conventions](https://www.python.org/dev/peps/pep-0008/#naming-conventions)一節有提到變數要如何命名。\n",
        "    * 若全部是大寫的，多半是常數，例如最大寬度、PI的值。\n",
        "    * 若是底線開頭的，應該是區域變數（Local variable，你還不用知道）"
      ]
    },
    {
      "cell_type": "code",
      "metadata": {
        "id": "Cyxybe1PV4wM"
      },
      "source": [
        "a = 3\n",
        "b = 4\n",
        "c = a + b\n",
        "_a, _b, _c = 1, 2, 3\n",
        "MAXWIDTH = 60\n",
        "# and, for = 1, 2\n",
        "# print(and, for)"
      ],
      "execution_count": null,
      "outputs": []
    },
    {
      "cell_type": "code",
      "metadata": {
        "ExecuteTime": {
          "end_time": "2020-03-16T16:42:08.311988Z",
          "start_time": "2020-03-16T16:42:08.307773Z"
        },
        "id": "i0Mb7u5CV4wN",
        "colab": {
          "base_uri": "https://localhost:8080/"
        },
        "outputId": "b1ad4a7a-8479-4a21-98bf-f86fd680f6a9"
      },
      "source": [
        "a, b = 2, 3\n",
        "a, b = b, a\n",
        "print(a, b)"
      ],
      "execution_count": null,
      "outputs": [
        {
          "output_type": "stream",
          "name": "stdout",
          "text": [
            "3 2\n"
          ]
        }
      ]
    },
    {
      "cell_type": "markdown",
      "metadata": {
        "id": "mR5UGXS6V4wN"
      },
      "source": [
        "## Data types\n",
        "\n",
        "`list`, `dictionary`是python這個程式語言的內建資料型態。請參閱[5. Built-in Types](https://docs.python.org/2/library/stdtypes.html)。常見的資料型態共有以下幾種\n",
        "\n",
        "* 真偽True and false\n",
        "* 數值Numeric Types— `int`(整數), `float`(有小數點的), long, complex\n",
        "    * floating point number: e.g., `b = 12.3`\n",
        "    * integer: e.g., `c = 123`\n",
        "* 序列Sequence Types— `str`(文字字串), unicode, `list`, `tuple`, bytearray, buffer, xrange。\n",
        "    * list: `alist = []`\n",
        "    * tuple: `ab = (1, 2, 3)`\n",
        "* 集合Set Types— `set`, frozenset\n",
        "* 對應Mapping Types— `dict`。例如`bdict = {1:2, 3:4, '5':6, '7':'8', 9:'10.11', 12:[13, 14, 15], 13:{14:'15', '16':[17, 18]}}`\n",
        "* 檔案File Objects\n",
        "* 字串string: e.g., `a = '12.3'`"
      ]
    },
    {
      "cell_type": "markdown",
      "metadata": {
        "id": "IR4ZuAbgV4wN"
      },
      "source": [
        "## Assignment also creates data type\n",
        "變數使用Assignment（指派）來讓程式知道該變數的變數型態為何。右側的運算必然會產生一個某種變數型態的值，當把這樣的變數型態assign給左側的變數時，左側的變數便會自動被設定為該型態。注意！一定是把右方的內容（右方可能是數值也可能是變數）指定給左方的變數。\n",
        "\n",
        "下例把`a = 2`，那麼`a`就是整數的`2`；若是`a = 2.0`，那麼`a`就會是浮點數（floating point，也就是有小數點的）的`a`。"
      ]
    },
    {
      "cell_type": "code",
      "metadata": {
        "ExecuteTime": {
          "end_time": "2020-02-22T14:10:36.293269Z",
          "start_time": "2020-02-22T14:10:36.289458Z"
        },
        "id": "vOgsw8EnV4wN"
      },
      "source": [
        "a = 2 # integer\n",
        "b = 3.0 # floating point number\n",
        "c = '1.123' # string\n",
        "d = \"2\" # string"
      ],
      "execution_count": null,
      "outputs": []
    },
    {
      "cell_type": "code",
      "metadata": {
        "ExecuteTime": {
          "end_time": "2020-03-16T16:42:22.950017Z",
          "start_time": "2020-03-16T16:42:22.945706Z"
        },
        "id": "RIe7K6kzV4wO",
        "colab": {
          "base_uri": "https://localhost:8080/"
        },
        "outputId": "eedc48ad-2e7e-4e8a-8746-bff0cbf65d75"
      },
      "source": [
        "# assign a + b to a\n",
        "a = a + b\n",
        "print(a)\n",
        "\n",
        "# print a and b\n",
        "print(a, b)"
      ],
      "execution_count": null,
      "outputs": [
        {
          "output_type": "stream",
          "name": "stdout",
          "text": [
            "5.0\n",
            "5.0 3.0\n"
          ]
        }
      ]
    },
    {
      "cell_type": "markdown",
      "metadata": {
        "id": "hFTi6ZHUV4wO"
      },
      "source": [
        "## Using `type()` to check data type"
      ]
    },
    {
      "cell_type": "code",
      "metadata": {
        "ExecuteTime": {
          "end_time": "2020-02-22T14:10:33.650103Z",
          "start_time": "2020-02-22T14:10:33.641249Z"
        },
        "id": "5NqUW-msV4wO",
        "colab": {
          "base_uri": "https://localhost:8080/"
        },
        "outputId": "cafb4b71-db46-498f-c1e3-f9b8380241c0"
      },
      "source": [
        "a, b = 1, 1.0 # integer and floating point\n",
        "c, d = '1.1', \"1.1\" # string\n",
        "\n",
        "print(type(a))\n",
        "print(b)\n",
        "print(a)\n",
        "print(type(c))\n",
        "\n",
        "# check the type of a, b, c\n",
        "a, b, c = '2', 2, 2.0\n",
        "\n",
        "print(type(a), type(b), type(c))\n",
        "\n",
        "# check the type of d, e\n",
        "d, e = [], {}\n",
        "\n",
        "print(type(d), type(e))"
      ],
      "execution_count": null,
      "outputs": [
        {
          "output_type": "stream",
          "name": "stdout",
          "text": [
            "<class 'int'>\n",
            "1.0\n",
            "1\n",
            "<class 'str'>\n",
            "<class 'str'> <class 'int'> <class 'float'>\n",
            "<class 'list'> <class 'dict'>\n"
          ]
        }
      ]
    },
    {
      "cell_type": "markdown",
      "metadata": {
        "id": "B7GOk98wV4wO"
      },
      "source": [
        "## Converting data type\n",
        "\n",
        "* 變數可以用`int()`、`float()`和`str()`在彼此間轉換（左側為最常用的三個）。\n",
        "* 但要注意的是，`float()`相當於是有小數點的數字，若被`int()`強制轉換，會伴隨精確度的流失。例如`a = int(2.3)`會只剩下`2`，且沒辦法復原。\n",
        "* 如果將`integer`乘上`float`的話，整個變數會變成`float`。如下面的例子中，type將會是`float`。\n",
        "\n",
        "```\n",
        "a = 3\n",
        "print(type(a * 3.0))\n",
        "```"
      ]
    },
    {
      "cell_type": "code",
      "metadata": {
        "ExecuteTime": {
          "end_time": "2020-03-17T03:05:34.452727Z",
          "start_time": "2020-03-17T03:05:34.449073Z"
        },
        "id": "aiPwL9BoV4wP",
        "colab": {
          "base_uri": "https://localhost:8080/"
        },
        "outputId": "815c30d1-84fd-45f7-a524-c1acc7f38251"
      },
      "source": [
        "a = 2.3\n",
        "\n",
        "# convert a to integer, then assign to b\n",
        "b = int(a)\n",
        "print(b, type(b))\n",
        "\n",
        "# convert b*3 to float, then assign to c\n",
        "c = float(b*3)\n",
        "\n",
        "# print c, type of c, type of b*3.0\n",
        "print(c, type(c), type(b*3.0))"
      ],
      "execution_count": null,
      "outputs": [
        {
          "output_type": "stream",
          "name": "stdout",
          "text": [
            "2 <class 'int'>\n",
            "6.0 <class 'float'> <class 'float'>\n"
          ]
        }
      ]
    },
    {
      "cell_type": "markdown",
      "metadata": {
        "id": "jvXc-zBXV4wP"
      },
      "source": [
        "## Printing with variables\n",
        "\n",
        "在列印輸出時，有時候我們會希望在前後多印出一些字串來說明印出來的那個結果是什麼。此時要用print formatting[String print formatting](https://docs.python.org/2/library/string.html)。以`print(\"my name is %s, age %s\"%(name, 36.1234567))`為例，其表示要將後面那兩個變數或者數值的內容，放到前面兩個`%s`的位置，且`%s`是表示，要用字串來輸出。\n",
        "* `%d` means printing as decimal number\n",
        "* `%s` means printing as string\n",
        "* `%f` means print as floating point number\n",
        "\n",
        "**參考資料：**可以參考這篇[PyFormat](https://pyformat.info/)來了解`%d`和`.format()`另外一種print formatting的寫法。也可參考以下網址的內容：https://docs.python.org/3/tutorial/inputoutput.html"
      ]
    },
    {
      "cell_type": "code",
      "metadata": {
        "ExecuteTime": {
          "end_time": "2020-03-17T03:10:28.330710Z",
          "start_time": "2020-03-17T03:10:28.327110Z"
        },
        "id": "4mEh1YdjV4wP",
        "colab": {
          "base_uri": "https://localhost:8080/"
        },
        "outputId": "f2e809d8-da64-41a5-821f-78e7526e5867"
      },
      "source": [
        "# print out the following message\n",
        "# Your name is  YOURNAME\n",
        "# Your name is YOURNAME ! Your age is 38! \n",
        "# Your name is jilung ! You age is 38\n",
        "name = \"YOURNAME\"\n",
        "age = 38\n",
        "\n",
        "print(\"Your name is  {}\".format(name))\n",
        "print(\"Your name is {} ! Your age is {}! \".format(name, age))\n",
        "print(\"Your name is jilung ! Your age is 38\")"
      ],
      "execution_count": null,
      "outputs": [
        {
          "output_type": "stream",
          "name": "stdout",
          "text": [
            "Your name is  YOURNAME\n",
            "Your name is YOURNAME ! Your age is 38! \n",
            "Your name is jilung ! Your age is 38\n"
          ]
        }
      ]
    },
    {
      "cell_type": "code",
      "metadata": {
        "id": "grBDjOSWV4wP",
        "colab": {
          "base_uri": "https://localhost:8080/"
        },
        "outputId": "a27f26ba-aceb-474a-a5b7-86a63a5af2f4"
      },
      "source": [
        "print(\"Your name is {} ! Your age is {}\".format(\"HSIEH JILUNG\", \"38\"))\n",
        "print(f\"Your name is {name} and age {age}\")\n",
        "print(\"Your name is {:20} and age {:20}\".format(name, age))  # define the length of input string"
      ],
      "execution_count": null,
      "outputs": [
        {
          "output_type": "stream",
          "name": "stdout",
          "text": [
            "Your name is HSIEH JILUNG ! Your age is 38\n",
            "Your name is YOURNAME and age 38\n",
            "Your name is YOURNAME             and age                   38\n"
          ]
        }
      ]
    },
    {
      "cell_type": "markdown",
      "metadata": {
        "id": "hJZISpewV4wP"
      },
      "source": [
        "**常見錯誤**：前面字串中所預留的位置和後面所欲帶入的變數／數值數量若不相同會怎樣？例如下面這個例子中，後面的arguments只有一個，前面則有兩個formatted slot。"
      ]
    },
    {
      "cell_type": "code",
      "metadata": {
        "ExecuteTime": {
          "end_time": "2020-03-16T16:42:51.707522Z",
          "start_time": "2020-03-16T16:42:51.551692Z"
        },
        "id": "fENnyCJTV4wQ",
        "colab": {
          "base_uri": "https://localhost:8080/",
          "height": 163
        },
        "outputId": "989fcf51-4411-472f-bfc8-52042b079e93"
      },
      "source": [
        "print(\"Your name is %s ! You age is %s\"%('jilung'))"
      ],
      "execution_count": null,
      "outputs": [
        {
          "output_type": "error",
          "ename": "TypeError",
          "evalue": "ignored",
          "traceback": [
            "\u001b[0;31m---------------------------------------------------------------------------\u001b[0m",
            "\u001b[0;31mTypeError\u001b[0m                                 Traceback (most recent call last)",
            "\u001b[0;32m<ipython-input-18-493e0e8bd587>\u001b[0m in \u001b[0;36m<module>\u001b[0;34m()\u001b[0m\n\u001b[0;32m----> 1\u001b[0;31m \u001b[0mprint\u001b[0m\u001b[0;34m(\u001b[0m\u001b[0;34m\"Your name is %s ! You age is %s\"\u001b[0m\u001b[0;34m%\u001b[0m\u001b[0;34m(\u001b[0m\u001b[0;34m'jilung'\u001b[0m\u001b[0;34m)\u001b[0m\u001b[0;34m)\u001b[0m\u001b[0;34m\u001b[0m\u001b[0;34m\u001b[0m\u001b[0m\n\u001b[0m",
            "\u001b[0;31mTypeError\u001b[0m: not enough arguments for format string"
          ]
        }
      ]
    },
    {
      "cell_type": "markdown",
      "metadata": {
        "id": "b89KTgr2V4wQ"
      },
      "source": [
        "**常見錯誤狀態二**：而下面這個是少一個formatted slot，後面有兩個變數，前面僅有一個`%s`。"
      ]
    },
    {
      "cell_type": "code",
      "metadata": {
        "id": "QQPcX--yV4wQ",
        "outputId": "f81e3600-893d-476f-d950-ba3226c8e55e"
      },
      "source": [
        "print(\"Your name is ! Your age is %s! \"%(name, age))"
      ],
      "execution_count": null,
      "outputs": [
        {
          "ename": "TypeError",
          "evalue": "not all arguments converted during string formatting",
          "output_type": "error",
          "traceback": [
            "\u001b[0;31m---------------------------------------------------------------------------\u001b[0m",
            "\u001b[0;31mTypeError\u001b[0m                                 Traceback (most recent call last)",
            "\u001b[0;32m<ipython-input-24-b35bbcc85cdb>\u001b[0m in \u001b[0;36m<module>\u001b[0;34m()\u001b[0m\n\u001b[0;32m----> 1\u001b[0;31m \u001b[0mprint\u001b[0m\u001b[0;34m(\u001b[0m\u001b[0;34m\"Your name is ! Your age is %s! \"\u001b[0m\u001b[0;34m%\u001b[0m\u001b[0;34m(\u001b[0m\u001b[0mname\u001b[0m\u001b[0;34m,\u001b[0m \u001b[0mage\u001b[0m\u001b[0;34m)\u001b[0m\u001b[0;34m)\u001b[0m\u001b[0;34m\u001b[0m\u001b[0m\n\u001b[0m",
            "\u001b[0;31mTypeError\u001b[0m: not all arguments converted during string formatting"
          ]
        }
      ]
    },
    {
      "cell_type": "markdown",
      "metadata": {
        "id": "EuDxODHyV4wQ"
      },
      "source": [
        "# Arithemetic operations +, -, *, **, /, %\n",
        "\n",
        "四則運算的計算方式和普遍數學的運算相同，由左而右，括號內先做，先乘除後加減。\n",
        "\n",
        "* `**` - \"power of.\"\n",
        "* `%` - \"mod\" e.g., `5%3==2`, `4%2==0`.\n",
        "* `/` - \"divide\" varied by data type of numberator and denominator"
      ]
    },
    {
      "cell_type": "code",
      "metadata": {
        "ExecuteTime": {
          "end_time": "2020-03-17T03:16:31.910318Z",
          "start_time": "2020-03-17T03:16:31.904837Z"
        },
        "id": "QyoSUIbiV4wQ",
        "colab": {
          "base_uri": "https://localhost:8080/"
        },
        "outputId": "4cfe5df4-a421-45ab-ecc9-ac65aadf315c"
      },
      "source": [
        "a, b = 10, 3\n",
        "\n",
        "# print a and b\n",
        "print(\"a = %d, b = %d\"%(a, b))\n",
        "\n",
        "# print the result of a/b and a%b\n",
        "print(\"a/b=\", a/b, \"a/b=\", a%b)\n",
        "\n",
        "# print a/b and a%b but formatted to integer\n",
        "print(\"a/b=%d, a%%b=%d\"%(a/b, a%b))\n",
        "\n",
        "# print a/b and a%b but formatted to float\n",
        "print(\"a/b=%f, a%%b=%f\"%(a/b, a%b))\n",
        "\n",
        "\n",
        "# a divided by float(b)\n",
        "print(a/float(b))\n",
        "\n",
        "# b divides float(a)\n",
        "print(float(a)/b)\n",
        "\n",
        "# print ((a+b)**2+(a-b)**2)/float(a**2+b**2) and it result\n",
        "print(\"((a+b)**2+(a-b)**2)/float(a**2+b**2) = \", ((a+b)**2+(a-b)**2)/float(a**2+b**2))\n"
      ],
      "execution_count": null,
      "outputs": [
        {
          "output_type": "stream",
          "name": "stdout",
          "text": [
            "a = 10, b = 3\n",
            "a/b= 3.3333333333333335 a/b= 1\n",
            "a/b=3, a%b=1\n",
            "a/b=3.333333, a%b=1.000000\n",
            "3.3333333333333335\n",
            "3.3333333333333335\n",
            "((a+b)**2+(a-b)**2)/float(a**2+b**2) =  2.0\n"
          ]
        }
      ]
    },
    {
      "cell_type": "markdown",
      "metadata": {
        "id": "A848xMgwV4wR"
      },
      "source": [
        "**字串除以數字**：如果把字串除以整數的話會產生什麼樣的情形？字串是沒辦法除以整數的，因為沒有意義，所以會產生*TypeError*。"
      ]
    },
    {
      "cell_type": "code",
      "metadata": {
        "id": "RrT_dA5mV4wR",
        "colab": {
          "base_uri": "https://localhost:8080/",
          "height": 180
        },
        "outputId": "6028b9cf-afa0-41c2-cf99-257ee630bfdb"
      },
      "source": [
        "print(str(a)/b)\n",
        "# TypeError: unsupported operand type(s) for /: 'str' and 'int'"
      ],
      "execution_count": null,
      "outputs": [
        {
          "output_type": "error",
          "ename": "TypeError",
          "evalue": "ignored",
          "traceback": [
            "\u001b[0;31m---------------------------------------------------------------------------\u001b[0m",
            "\u001b[0;31mTypeError\u001b[0m                                 Traceback (most recent call last)",
            "\u001b[0;32m<ipython-input-20-5feed158cf8d>\u001b[0m in \u001b[0;36m<module>\u001b[0;34m()\u001b[0m\n\u001b[0;32m----> 1\u001b[0;31m \u001b[0mprint\u001b[0m\u001b[0;34m(\u001b[0m\u001b[0mstr\u001b[0m\u001b[0;34m(\u001b[0m\u001b[0ma\u001b[0m\u001b[0;34m)\u001b[0m\u001b[0;34m/\u001b[0m\u001b[0mb\u001b[0m\u001b[0;34m)\u001b[0m\u001b[0;34m\u001b[0m\u001b[0;34m\u001b[0m\u001b[0m\n\u001b[0m\u001b[1;32m      2\u001b[0m \u001b[0;31m# TypeError: unsupported operand type(s) for /: 'str' and 'int'\u001b[0m\u001b[0;34m\u001b[0m\u001b[0;34m\u001b[0m\u001b[0;34m\u001b[0m\u001b[0m\n",
            "\u001b[0;31mTypeError\u001b[0m: unsupported operand type(s) for /: 'str' and 'int'"
          ]
        }
      ]
    },
    {
      "cell_type": "markdown",
      "metadata": {
        "id": "2lUdrQ7IV4wR"
      },
      "source": [
        "# Example. Converting Temperature format\n",
        "\n",
        "攝氏tc溫度等於華氏tf溫度-32後乘以5/9。"
      ]
    },
    {
      "cell_type": "code",
      "metadata": {
        "ExecuteTime": {
          "end_time": "2020-03-12T02:46:13.422836Z",
          "start_time": "2020-03-12T02:46:13.419889Z"
        },
        "id": "ozf27rjkV4wR",
        "colab": {
          "base_uri": "https://localhost:8080/"
        },
        "outputId": "e95938c1-211e-4d6f-9976-68c8c920fc97"
      },
      "source": [
        "tf = 50\n",
        "# Code shoulb be here\n",
        "tc = (tf - 32) * 5 / 9\n",
        "print(tc)"
      ],
      "execution_count": null,
      "outputs": [
        {
          "output_type": "stream",
          "name": "stdout",
          "text": [
            "10.0\n"
          ]
        }
      ]
    }
  ]
}