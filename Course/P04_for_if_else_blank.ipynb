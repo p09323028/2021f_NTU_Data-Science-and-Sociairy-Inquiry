{
  "nbformat": 4,
  "nbformat_minor": 0,
  "metadata": {
    "anaconda-cloud": {},
    "colab": {
      "name": "P04_for_if_else_blank.ipynb",
      "provenance": [],
      "collapsed_sections": [
        "YIULaGwuOHa-"
      ],
      "toc_visible": true
    },
    "kernelspec": {
      "display_name": "Python 3 (ipykernel)",
      "language": "python",
      "name": "python3"
    },
    "language_info": {
      "codemirror_mode": {
        "name": "ipython",
        "version": 3
      },
      "file_extension": ".py",
      "mimetype": "text/x-python",
      "name": "python",
      "nbconvert_exporter": "python",
      "pygments_lexer": "ipython3",
      "version": "3.8.12"
    },
    "metadata": {
      "interpreter": {
        "hash": "31f2aee4e71d21fbe5cf8b01ff0e069b9275f58929596ceb00d14d90e3e16cd6"
      }
    },
    "toc": {
      "base_numbering": 1,
      "nav_menu": {
        "height": "413px",
        "width": "160px"
      },
      "number_sections": true,
      "sideBar": true,
      "skip_h1_title": false,
      "title_cell": "Table of Contents",
      "title_sidebar": "Contents",
      "toc_cell": false,
      "toc_position": {
        "height": "calc(100% - 180px)",
        "left": "10px",
        "top": "150px",
        "width": "295px"
      },
      "toc_section_display": true,
      "toc_window_display": true
    },
    "varInspector": {
      "cols": {
        "lenName": 16,
        "lenType": 16,
        "lenVar": 40
      },
      "kernels_config": {
        "python": {
          "delete_cmd_postfix": "",
          "delete_cmd_prefix": "del ",
          "library": "var_list.py",
          "varRefreshCmd": "print(var_dic_list())"
        },
        "r": {
          "delete_cmd_postfix": ") ",
          "delete_cmd_prefix": "rm(",
          "library": "var_list.r",
          "varRefreshCmd": "cat(var_dic_list()) "
        }
      },
      "types_to_exclude": [
        "module",
        "function",
        "builtin_function_or_method",
        "instance",
        "_Feature"
      ],
      "window_display": false
    }
  },
  "cells": [
    {
      "cell_type": "markdown",
      "metadata": {
        "id": "mBJXlq5Wrw1M"
      },
      "source": [
        "# INDEX\n",
        "\n",
        "---\n",
        "**for-loop + if-else: conditional operators**\n",
        "- if-else Application: Traversing AQX\n",
        "    - Rescaling to categories\n",
        "    - Detecting prominants\n",
        "        - Top value\n",
        "        - Top site\n",
        "        - Top 3 sites\n"
      ]
    },
    {
      "cell_type": "markdown",
      "metadata": {
        "id": "OlnvF7JxOHa0"
      },
      "source": [
        "# if-for applications\n",
        "\n",
        "Reference https://jirlong.gitbook.io/pytutorial/python-basic/4.-if-else-for\n",
        "\n",
        "* **Counting**: 把所有文字看過一遍，計算文字的出現次數\n",
        "* **Filtering**: 列印出你所要呈現的youbike站台：指定要某幾個、透過if來判斷，指定要滿載的\n",
        "* **Finding Max/Min**: 透過比較來找到最大值和最小值\n",
        "* **Conditional Replacing**: 處理缺漏值，AQX不定期地會有缺漏值，要用`if`來偵測是否有缺漏值，並指定遇到缺漏值要怎麼做處理。或者是查驗輸入的日期是否合理\n",
        "* **Sorting**: 用`for`遍歷PM2.5的值來對PM2.5做排序，找到最大或者是前三大的PM2.5站台\n",
        "* **Rescaling**: 分組。若告訴一個使用者PM2.5是67，他可能不知道這個數字代表什麼意義，但你若透過一個標準的Mapping把它mapping到非常高、高、中、低、非常低等五個等級，並告訴使用者說現在這個區域PM2.5是高，那他就聽得懂。"
      ]
    },
    {
      "cell_type": "markdown",
      "metadata": {
        "id": "Y6wmkndCOHa5"
      },
      "source": [
        "# The AQX case\n",
        "\n",
        "**範例說明**：從資料來源為行政院環保署的空氣品質監測網（[PM2.5 introduced by 行政院環保署](https://taqm.epa.gov.tw/taqm/tw/default.aspx)）可以看到即時的空氣品質，包含指標和嚴重程度（上顏色）。上顏色的方法是依照AQI的值分成六個等級。當要把AQI值繪製為相對應的等級時，必須要判斷AQI值落在哪一個區間，此時，需要用if-else的條件判斷式來判斷，究竟是落在哪個區間。而測站不會只有一個，因此，要一個接一個判斷完現在所有的測站落在哪一個區間的話，那就要用for-loop來判斷完所有的測站。\n",
        "\n",
        "**資料來源**：行政院環保署有一個自己的開放資料網站https://opendata.epa.gov.tw ，即時更新的速度會比政府開放資料平台快。https://opendata.epa.gov.tw/api/v1/AQI?%24skip=0&%24top=1000&%24format=json\n",
        "\n",
        "**分析策略**：看到空氣品質的資料，或類似的資料（例如水污染、噪音、紫外線）一般會想要做什麼事？\n",
        "1. 找到突出的（Prominent）資料：找到最嚴重的地區。如果最嚴重的地區不只一個，那就要列印出多個地區。要做這件事就要找到最大值或者是最小值。在程式的邏輯上就是把所有資料看過一遍，透過大小比較，找出最大的那個值。\n",
        "\n",
        "2. 找到突出的（Prominent）資料：不僅找到最嚴重的地區，還要找到前三大、前五大、前10％。在程式的邏輯上，就要做排序。以由大到小來排序的狀況來說，要用前面的方法，找到最大值，再從剩下的找出次大值、再從剩下的找出次大值，依此類推。\n",
        "\n",
        "3. 獲取資料摘要。例如平均值、四分位數、左/右傾分佈（常態分配、Power low）。\n",
        "\n",
        "4. 描述資料分佈。雖然知道平均值或四分位數等已經能夠知道部分資料的概況，但通常會需要知道資料分布的概況，例如空氣品質差的地方多，還是好的地方多？或者是空氣品質在每個不同的等級的，各有幾個測站？這程式的基本邏輯通常是分堆或分類後進行計數（Counting），或者是單就數值直接進行Counting。\n",
        "\n",
        "5. 篩選出目標觀察資料：例如，比較大都市內或非大都市的測站，看看PM2.5或者O3比較嚴重。\n",
        "\n",
        "為什麼要找到這些資料的概況？簡單地說，是為了讓一般人聽得懂，但要求有憑有據。只有資料的分析者和操作者看得到資料，但重點是你今天通常為什麼要做資料分析，是因為你想要傳達給別人，這筆資料有啥特殊之處，或者他平淡無奇。但為了做到這點，你需要用一個他們都聽得懂的語彙，例如「大部分的區域」、「最嚴重的區域」、「前幾大」。然而，這些語彙的邏輯實際上都模糊而不準確，但若你有資料和數學的支持，你就可以說得有信心，有憑有據，而不至於信口開河。"
      ]
    },
    {
      "cell_type": "markdown",
      "metadata": {
        "id": "zXnpOWwHOHa5"
      },
      "source": [
        "## Loading AQX data"
      ]
    },
    {
      "cell_type": "code",
      "metadata": {
        "ExecuteTime": {
          "end_time": "2020-03-23T04:35:13.229614Z",
          "start_time": "2020-03-23T04:35:12.866082Z"
        },
        "colab": {
          "base_uri": "https://localhost:8080/",
          "height": 345
        },
        "id": "oMUojEBsOHa6",
        "outputId": "cdd51151-497b-40df-b18f-dade95fa6658"
      },
      "source": [
        "import requests\n",
        "import json\n",
        "url = \"https://opendata.epa.gov.tw/api/v1/AQI?%24skip=0&%24top=1000&%24format=json\"\n",
        "response = requests.get(url)\n",
        "aqdata = json.loads(response.text)\n",
        "print(type(aqdata))"
      ],
      "execution_count": null,
      "outputs": [
        {
          "name": "stdout",
          "output_type": "stream",
          "text": [
            "<class 'list'>\n"
          ]
        }
      ]
    },
    {
      "cell_type": "code",
      "metadata": {
        "colab": {
          "base_uri": "https://localhost:8080/"
        },
        "id": "KQc6mh9k-jnv",
        "outputId": "6eb6ede6-856f-4af8-c67c-cf12633e8788"
      },
      "source": [
        "print(aqdata[0])\n",
        "print(type(aqdata[0]))"
      ],
      "execution_count": null,
      "outputs": [
        {
          "name": "stdout",
          "output_type": "stream",
          "text": [
            "{'SiteName': '屏東(建興)', 'County': '屏東縣', 'AQI': '71', 'Pollutant': '臭氧八小時', 'Status': '普通', 'SO2': '0.1', 'CO': '0.35', 'CO_8hr': '0.2', 'O3': '41.4', 'O3_8hr': '61', 'PM10': '17', 'PM2.5': '12', 'NO2': '3.8', 'NOx': '5.2', 'NO': '1.3', 'WindSpeed': '0.6', 'WindDirec': '47', 'PublishTime': '2021/10/02 17:00:00', 'PM2.5_AVG': '19', 'PM10_AVG': '30', 'SO2_AVG': '0', 'Longitude': '121.00379167', 'Latitude': '22.650525', 'SiteId': '313'}\n",
            "<class 'dict'>\n"
          ]
        }
      ]
    },
    {
      "cell_type": "markdown",
      "metadata": {
        "id": "bVRaMam-OHa7"
      },
      "source": [
        "## (Practice) Traversing AQI content\n",
        "\n",
        "*(同Youbike的範例）*<br>\n",
        "**法則一：如果偵測出他是一個list**，那就取出第0筆資料往下追蹤。\n",
        "\n",
        "**法則二：如果偵測出他是一個dict**，就用`dict.keys()`將其所有的key給列印出來，然後挑你所需要的key往下追蹤。但如果`.keys()`印出來的結果是類似流水號的id（e.g., youbike data），那就代表設計者把id對應到該id的資料。此時，也是不失一般性，取第一個id作為索引來往下存取即可。"
      ]
    },
    {
      "cell_type": "code",
      "metadata": {
        "ExecuteTime": {
          "end_time": "2020-03-23T04:35:14.934070Z",
          "start_time": "2020-03-23T04:35:14.930267Z"
        },
        "colab": {
          "base_uri": "https://localhost:8080/"
        },
        "id": "EhRr5vq5OHa7",
        "outputId": "5aa0b820-de01-4cfe-f5fa-ae199c5c7dce"
      },
      "source": [
        "print(type(aqdata))\n",
        "print(\"Length of:\", len(aqdata))\n",
        "print(\"The first item of:\", aqdata[0])\n",
        "print(type(aqdata[0]))\n",
        "print(aqdata[0].keys())"
      ],
      "execution_count": null,
      "outputs": [
        {
          "name": "stdout",
          "output_type": "stream",
          "text": [
            "<class 'list'>\n",
            "Length of: 84\n",
            "The first item of: {'SiteName': '屏東(建興)', 'County': '屏東縣', 'AQI': '71', 'Pollutant': '臭氧八小時', 'Status': '普通', 'SO2': '0.1', 'CO': '0.35', 'CO_8hr': '0.2', 'O3': '41.4', 'O3_8hr': '61', 'PM10': '17', 'PM2.5': '12', 'NO2': '3.8', 'NOx': '5.2', 'NO': '1.3', 'WindSpeed': '0.6', 'WindDirec': '47', 'PublishTime': '2021/10/02 17:00:00', 'PM2.5_AVG': '19', 'PM10_AVG': '30', 'SO2_AVG': '0', 'Longitude': '121.00379167', 'Latitude': '22.650525', 'SiteId': '313'}\n",
            "<class 'dict'>\n",
            "dict_keys(['SiteName', 'County', 'AQI', 'Pollutant', 'Status', 'SO2', 'CO', 'CO_8hr', 'O3', 'O3_8hr', 'PM10', 'PM2.5', 'NO2', 'NOx', 'NO', 'WindSpeed', 'WindDirec', 'PublishTime', 'PM2.5_AVG', 'PM10_AVG', 'SO2_AVG', 'Longitude', 'Latitude', 'SiteId'])\n"
          ]
        }
      ]
    },
    {
      "cell_type": "markdown",
      "metadata": {
        "id": "xntH9ZXqOHa8"
      },
      "source": [
        "## (Practice) Print out data by for-loop\n",
        "\n",
        "print formation rules https://docs.python.org/3/tutorial/inputoutput.html\n",
        "```\n",
        "龍潭 68 10\n",
        "新竹 80 \n",
        "湖口 72 21\n",
        "竹東 66 11\n",
        "頭份 95 \n",
        "苗栗 78 24\n",
        "三義 72 32\n",
        "豐原 71 24\n",
        "沙鹿 89 33\n",
        "```"
      ]
    },
    {
      "cell_type": "code",
      "metadata": {
        "ExecuteTime": {
          "end_time": "2020-03-23T04:36:46.464964Z",
          "start_time": "2020-03-23T04:36:46.458233Z"
        },
        "id": "fpw_SeRvOHa8",
        "outputId": "42f657fb-c9ae-4a5b-c825-655d41195f2c"
      },
      "source": [
        "# Your code should be here\n",
        "\n"
      ],
      "execution_count": null,
      "outputs": [
        {
          "name": "stdout",
          "output_type": "stream",
          "text": [
            "屏東(建興)\t71\t12\n",
            "臺南(學甲)\t75\t20\n",
            "新北(樹林)\t40\t8\n",
            "屏東(琉球)\t108\t28\n",
            "臺南(麻豆)\t122\t14\n",
            "高雄(湖內)\t108\t26\n",
            "大城\t108\t14\n",
            "富貴角\t74\t7\n",
            "麥寮\t97\t14\n",
            "關山\t35\t15\n"
          ]
        }
      ]
    },
    {
      "cell_type": "markdown",
      "metadata": {
        "id": "1jje72QbOHa8"
      },
      "source": [
        "## (Practice) Updating missing PM2.5 value\n",
        "\n",
        "在這個例子中，由於我發現PM2.5偶而會有空值（就該場站的資料沒有傳回來），我可以用`for`-each掃過所有的資料，然後用`if`來判斷，如果資料是空值的話（如下面的空字串`\"\"`或者被標示為`ND`），就把`-1`assign給他，不然的話就保留原本的數值，或是像下面一樣，用`int()`把它轉為整數。我在`for`-each掃過所有資料時，我用了一個變數`site`，他的效果相當於把`aqdata[\"Data\"]`裡面的每一個項目走訪一遍，當`site`內容被改變時，`aqdata[\"Data\"]`的內容也會一併被改變。"
      ]
    },
    {
      "cell_type": "code",
      "metadata": {
        "ExecuteTime": {
          "end_time": "2020-03-23T04:38:34.007846Z",
          "start_time": "2020-03-23T04:38:34.002519Z"
        },
        "id": "3WkIHoN6OHa8",
        "outputId": "71abaac3-118d-49e3-dcd2-7af7ec19c032"
      },
      "source": [
        "for site in aqdata:\n",
        "    # Your code should be here\n",
        "\n",
        "\n",
        "# print out the first 10 records for glimpse\n",
        "for site in aqdata[:10]:\n",
        "    print(site[\"SiteName\"], site[\"AQI\"], site[\"PM2.5\"])\n"
      ],
      "execution_count": null,
      "outputs": [
        {
          "name": "stdout",
          "output_type": "stream",
          "text": [
            "屏東(建興) 71 12\n",
            "臺南(學甲) 75 20\n",
            "新北(樹林) 40 8\n",
            "屏東(琉球) 108 28\n",
            "臺南(麻豆) 122 14\n",
            "高雄(湖內) 108 26\n",
            "大城 108 14\n",
            "富貴角 74 7\n",
            "麥寮 97 14\n",
            "關山 35 15\n"
          ]
        }
      ]
    },
    {
      "cell_type": "markdown",
      "metadata": {
        "id": "Dsr1WL82OHa9"
      },
      "source": [
        "## (Practice) Using `i` as index to update data (Another way)\n",
        "\n",
        "我也可以透過index去access`aqdata[\"Data\"]`中第0個、第1個、第2個dict的內容。但此時你就要去用index存取`aqdata[\"Data\"]`內的值，你的程式碼會稍微長一點點。"
      ]
    },
    {
      "cell_type": "code",
      "metadata": {
        "ExecuteTime": {
          "end_time": "2020-03-23T04:39:18.999034Z",
          "start_time": "2020-03-23T04:39:18.994103Z"
        },
        "id": "cX4dOFnSOHa9",
        "outputId": "81261dbd-237d-4c9b-f3b5-00b1e6a2852f"
      },
      "source": [
        "for i in range(len(aqdata)):\n",
        "    # Your code should be here\n",
        "\n",
        "\n",
        "\n",
        "\n",
        "# print out the first 10 records for glimpse\n",
        "for site in aqdata[:10]:\n",
        "    print(site[\"SiteName\"], site[\"AQI\"], site[\"PM2.5\"])"
      ],
      "execution_count": null,
      "outputs": [
        {
          "name": "stdout",
          "output_type": "stream",
          "text": [
            "屏東(建興) 71 12\n",
            "臺南(學甲) 75 20\n",
            "新北(樹林) 40 8\n",
            "屏東(琉球) 108 28\n",
            "臺南(麻豆) 122 14\n",
            "高雄(湖內) 108 26\n",
            "大城 108 14\n",
            "富貴角 74 7\n",
            "麥寮 97 14\n",
            "關山 35 15\n"
          ]
        }
      ]
    },
    {
      "cell_type": "markdown",
      "metadata": {
        "id": "M0sU2eXHOHa9"
      },
      "source": [
        "## (Practice) Using `enumerate()` to access index and data\n",
        "\n",
        "前面我們介紹到兩個版本，\n",
        "1. `for site in aqdata[\"Data\"]:`是用`site`作為臨時變數以在for-loop中存取所有的資料項目；此時，對`site`的任何修改，都不會更動到原本`aqdata`內的數值。\n",
        "2. `for i in range(len(aqdata[\"Data\"])):`的做法則是用`i`作為index來存取原本的`aqdata[\"Data\"]`。由於是直接用`i`作為index來取用`aqdata`內的數值，所以任何更改都會更動到原本`aqdata`的內容。\n",
        "\n",
        "但其實還有第三種選擇就是用`enumerate()`來同時存取index和資料項目，當我需要access這是第幾個項目，或者需要access原本的項目值時，那我就用index，但我如果只是要判斷一下大小，那我就可以用被取出來的資料項目。寫法如下：\n",
        "\n",
        "`for i, site in enumerate(aqdata[\"Data\"]):`"
      ]
    },
    {
      "cell_type": "code",
      "metadata": {
        "ExecuteTime": {
          "end_time": "2020-03-23T04:42:22.383029Z",
          "start_time": "2020-03-23T04:42:22.377452Z"
        },
        "colab": {
          "base_uri": "https://localhost:8080/",
          "height": 239
        },
        "id": "2YY8k7VMOHa9",
        "outputId": "0a3d91c0-e780-4d9d-d361-1fb1b938c858"
      },
      "source": [
        "print(type(enumerate(aqdata)))\n",
        "\n",
        "for i, site in enumerate(aqdata):\n",
        "    # Your code should be here\n",
        "\n",
        "\n",
        "# print out the first 10 records for glimpse\n",
        "for site in aqdata[:10]:\n",
        "    print(site[\"SiteName\"], site[\"AQI\"], site[\"PM2.5\"])"
      ],
      "execution_count": null,
      "outputs": [
        {
          "name": "stdout",
          "output_type": "stream",
          "text": [
            "<class 'enumerate'>\n",
            "屏東(建興) 71 12\n",
            "臺南(學甲) 75 20\n",
            "新北(樹林) 40 8\n",
            "屏東(琉球) 108 28\n",
            "臺南(麻豆) 122 14\n",
            "高雄(湖內) 108 26\n",
            "大城 108 14\n",
            "富貴角 74 7\n",
            "麥寮 97 14\n",
            "關山 35 15\n"
          ]
        }
      ]
    },
    {
      "cell_type": "markdown",
      "metadata": {
        "id": "6qgk27FrkX9K"
      },
      "source": [
        "# Converting AQI data format\n",
        "\n",
        "顯然AQI資料是一個非常標準的JSON格式，轉換為Python的資料型態就會變成List of dictionary。<br>\n",
        "但這樣我無法直接用站台名稱來存取該站台的資料，也就是不能用`aqdict[\"三重\"]`就直接列印出`三重`的所有資料。<br>\n",
        "\n",
        "但我可以重建一個新的以測站作為key的dictionary。此時，我只需要把整個list of dict走訪過一遍，把list中每個dict assign給該dict中的測站名稱 `site[\"SiteName\"]`\n"
      ]
    },
    {
      "cell_type": "code",
      "metadata": {
        "id": "ewqqc_U_kX9K"
      },
      "source": [
        "aqdict = {}  # Initialize a new dictionary\n",
        "\n",
        "for site in aqdata:\n",
        "    # Your code should be here"
      ],
      "execution_count": null,
      "outputs": []
    },
    {
      "cell_type": "code",
      "metadata": {
        "colab": {
          "base_uri": "https://localhost:8080/"
        },
        "id": "dObnuOJ8kX9K",
        "outputId": "cdb1aa2c-ceac-4af2-ab29-9271214d504c"
      },
      "source": [
        "aqdict[\"三重\"]"
      ],
      "execution_count": null,
      "outputs": [
        {
          "data": {
            "text/plain": [
              "{'SiteName': '三重',\n",
              " 'County': '新北市',\n",
              " 'AQI': '51',\n",
              " 'Pollutant': '二氧化氮',\n",
              " 'Status': '普通',\n",
              " 'SO2': '2.3',\n",
              " 'CO': '1.15',\n",
              " 'CO_8hr': '0.8',\n",
              " 'O3': '20.7',\n",
              " 'O3_8hr': '28',\n",
              " 'PM10': '24',\n",
              " 'PM2.5': 13,\n",
              " 'NO2': '31.9',\n",
              " 'NOx': '62.4',\n",
              " 'NO': '30.5',\n",
              " 'WindSpeed': '-',\n",
              " 'WindDirec': '-',\n",
              " 'PublishTime': '2021/10/02 17:00:00',\n",
              " 'PM2.5_AVG': '12',\n",
              " 'PM10_AVG': '25',\n",
              " 'SO2_AVG': '1',\n",
              " 'Longitude': '121.493806',\n",
              " 'Latitude': '25.072611',\n",
              " 'SiteId': '67'}"
            ]
          },
          "execution_count": 20,
          "metadata": {},
          "output_type": "execute_result"
        }
      ]
    },
    {
      "cell_type": "markdown",
      "metadata": {
        "id": "2pbrcWWd3i-n"
      },
      "source": [
        "## Dump new dict to .json\n",
        "\n",
        "在Python中把資料dump成json會遠比csv來得方便，在R中則剛好相反。原因是Python的dictionary與list兩項資料結構恰好json的格式一一相符，所以非常容易就可以把資料dump出去或者read進來。如果是要dump成csv檔的話，就必須想辦法把資料整理成pandas dataframe的二維型態。\n"
      ]
    },
    {
      "cell_type": "code",
      "metadata": {
        "id": "1APlQ8yQ3ppo"
      },
      "source": [
        "json.dump(aqdict, open('aqi.json', 'w'))"
      ],
      "execution_count": null,
      "outputs": []
    },
    {
      "cell_type": "markdown",
      "metadata": {
        "id": "RyuplV_aOHa9"
      },
      "source": [
        "# Rescale AQI index\n",
        "\n",
        "前面說到一般民眾其實不太了解AQI數值的意義，也不知道最大最小值是多少，所以跟民眾講AQI的數值是沒意義的。民眾比較容易了解的是「現在嚴不嚴重」。因此，我們可以依照環保署對於空氣品質的等級劃分方法來將所有站台區分成幾個等級。程式邏輯上要做的事情是，用if-elif-else來設計好不同的區間判斷，然後用for-loop把所有AQI的值走訪過一遍，看每個站台落入哪個區間。\n",
        "![image.png](attachment:daeaaaf2-20f5-4cb7-8cd3-47cd280e4e25.png)"
      ]
    },
    {
      "cell_type": "code",
      "metadata": {
        "ExecuteTime": {
          "end_time": "2020-03-22T15:53:03.498552Z",
          "start_time": "2020-03-22T15:53:03.452584Z"
        },
        "colab": {
          "base_uri": "https://localhost:8080/",
          "height": 239
        },
        "id": "hWxjriE3OHa-",
        "outputId": "aedaec82-8e9b-49f9-ae6a-9481af30e45f"
      },
      "source": [
        "for i, site in enumerate(aqdata):\n",
        "    if site[\"AQI\"] == \"\":\n",
        "        aqdata[i][\"Quality\"] = \"Unknown\"\n",
        "    # Your code should be here\n",
        "\n",
        "    ## add more role here\n",
        "\n",
        "for site in aqdata:\n",
        "    print(site[\"SiteName\"], \"\\t\", site[\"Quality\"])"
      ],
      "execution_count": null,
      "outputs": [
        {
          "name": "stdout",
          "output_type": "stream",
          "text": [
            "屏東(建興) \t yellow\n",
            "臺南(學甲) \t yellow\n",
            "新北(樹林) \t Green\n",
            "屏東(琉球) \t Brown\n",
            "臺南(麻豆) \t Brown\n",
            "高雄(湖內) \t Brown\n",
            "大城 \t Brown\n",
            "富貴角 \t yellow\n",
            "麥寮 \t yellow\n",
            "關山 \t Green\n",
            "馬公 \t yellow\n",
            "金門 \t yellow\n",
            "馬祖 \t yellow\n",
            "埔里 \t yellow\n",
            "復興 \t yellow\n",
            "永和 \t Green\n",
            "竹山 \t Brown\n",
            "中壢 \t yellow\n",
            "三重 \t yellow\n",
            "冬山 \t Green\n",
            "宜蘭 \t Green\n",
            "陽明 \t Green\n",
            "花蓮 \t Green\n",
            "臺東 \t Green\n",
            "恆春 \t Green\n",
            "潮州 \t Brown\n",
            "屏東 \t yellow\n",
            "小港 \t yellow\n",
            "前鎮 \t Brown\n",
            "前金 \t Brown\n",
            "左營 \t Brown\n",
            "楠梓 \t yellow\n",
            "林園 \t Brown\n",
            "大寮 \t yellow\n",
            "鳳山 \t yellow\n",
            "仁武 \t yellow\n",
            "橋頭 \t yellow\n",
            "美濃 \t yellow\n",
            "臺南 \t Brown\n",
            "安南 \t Brown\n",
            "善化 \t Brown\n",
            "新營 \t Brown\n",
            "嘉義 \t Brown\n",
            "臺西 \t Brown\n",
            "朴子 \t Brown\n",
            "新港 \t Brown\n",
            "崙背 \t yellow\n",
            "斗六 \t Brown\n",
            "南投 \t Brown\n",
            "二林 \t yellow\n",
            "線西 \t yellow\n",
            "彰化 \t Brown\n",
            "西屯 \t yellow\n",
            "忠明 \t Brown\n",
            "大里 \t Brown\n",
            "沙鹿 \t yellow\n",
            "豐原 \t yellow\n",
            "三義 \t Brown\n",
            "苗栗 \t yellow\n",
            "頭份 \t yellow\n",
            "新竹 \t yellow\n",
            "竹東 \t yellow\n",
            "湖口 \t yellow\n",
            "龍潭 \t yellow\n",
            "平鎮 \t Green\n",
            "觀音 \t Green\n",
            "大園 \t Green\n",
            "桃園 \t yellow\n",
            "大同 \t Green\n",
            "松山 \t Green\n",
            "古亭 \t Green\n",
            "萬華 \t Green\n",
            "中山 \t Green\n",
            "士林 \t Green\n",
            "淡水 \t Green\n",
            "林口 \t Green\n",
            "菜寮 \t Green\n",
            "新莊 \t Green\n",
            "板橋 \t Green\n",
            "土城 \t Green\n",
            "新店 \t Green\n",
            "萬里 \t yellow\n",
            "汐止 \t Green\n",
            "基隆 \t yellow\n"
          ]
        }
      ]
    },
    {
      "cell_type": "markdown",
      "metadata": {
        "id": "YIULaGwuOHa-"
      },
      "source": [
        "## AQI by epa's standard\n",
        "\n",
        "| Label | Range   |\n",
        "|------|------|\n",
        "|Good|0~50|\n",
        "|Moderate|51~100|\n",
        "|Unhealthy for Sensitive Groups|101~150|\n",
        "|Unhealthy|151~200|\n",
        "|Very Unhealthy|201~300|\n",
        "|Hazardous|301~500|"
      ]
    },
    {
      "cell_type": "markdown",
      "metadata": {
        "id": "aNbL-IMNOHa-"
      },
      "source": [
        "## (Option) Rescale better\n",
        "\n",
        "為了避免過多的if-elif-else或者switch的使用，可以先把scale和category寫成兩個List，然後用多一層for-loop來trace該value會落在List的哪個區間。"
      ]
    },
    {
      "cell_type": "code",
      "metadata": {
        "ExecuteTime": {
          "end_time": "2020-03-22T15:58:49.104837Z",
          "start_time": "2020-03-22T15:58:49.087594Z"
        },
        "id": "LadW4QkbOHa-",
        "outputId": "ee58392d-677e-4ac9-c67f-00ee0b3194a3"
      },
      "source": [
        "degree = ['L', 'L', 'L', 'M', 'M', 'M', 'H', 'H','H', 'vH']\n",
        "scaler = [11, 23, 35, 41, 47, 53, 58, 64, 70, 1000]\n",
        "\n",
        "for site in aqdata:\n",
        "    if site['PM2.5'] != \"\":\n",
        "        for i, n in enumerate(scaler):\n",
        "            if int(site['PM2.5']) < n:\n",
        "                d = i\n",
        "                break     \n",
        "        print(int(site['PM2.5']), site['SiteName'], d+1, degree[d])"
      ],
      "execution_count": null,
      "outputs": [
        {
          "name": "stdout",
          "output_type": "stream",
          "text": [
            "12 屏東(建興) 2 L\n",
            "20 臺南(學甲) 2 L\n",
            "8 新北(樹林) 1 L\n",
            "28 屏東(琉球) 3 L\n",
            "14 臺南(麻豆) 2 L\n",
            "26 高雄(湖內) 3 L\n",
            "14 大城 2 L\n",
            "7 富貴角 1 L\n",
            "14 麥寮 2 L\n",
            "15 關山 2 L\n",
            "10 馬公 1 L\n",
            "10 金門 1 L\n",
            "5 馬祖 1 L\n",
            "25 埔里 3 L\n",
            "30 復興 3 L\n",
            "12 永和 2 L\n",
            "22 竹山 2 L\n",
            "11 中壢 2 L\n",
            "13 三重 2 L\n",
            "7 冬山 1 L\n",
            "5 宜蘭 1 L\n",
            "11 陽明 2 L\n",
            "12 花蓮 2 L\n",
            "14 臺東 2 L\n",
            "13 恆春 2 L\n",
            "11 潮州 2 L\n",
            "22 屏東 2 L\n",
            "26 小港 3 L\n",
            "24 前鎮 3 L\n",
            "23 前金 3 L\n",
            "25 左營 3 L\n",
            "23 楠梓 3 L\n",
            "16 林園 2 L\n",
            "22 大寮 2 L\n",
            "36 鳳山 4 M\n",
            "26 仁武 3 L\n",
            "31 橋頭 3 L\n",
            "22 美濃 2 L\n",
            "26 臺南 3 L\n",
            "22 安南 2 L\n",
            "24 善化 3 L\n",
            "25 新營 3 L\n",
            "27 嘉義 3 L\n",
            "16 臺西 2 L\n",
            "23 朴子 3 L\n",
            "16 新港 2 L\n",
            "14 崙背 2 L\n",
            "21 斗六 2 L\n",
            "20 南投 2 L\n",
            "14 二林 2 L\n",
            "15 線西 2 L\n",
            "13 彰化 2 L\n",
            "19 西屯 2 L\n",
            "18 忠明 2 L\n",
            "19 大里 2 L\n",
            "15 沙鹿 2 L\n",
            "17 豐原 2 L\n",
            "15 三義 2 L\n",
            "14 苗栗 2 L\n",
            "13 頭份 2 L\n",
            "13 新竹 2 L\n",
            "13 竹東 2 L\n",
            "14 湖口 2 L\n",
            "10 龍潭 1 L\n",
            "15 平鎮 2 L\n",
            "10 觀音 1 L\n",
            "6 大園 1 L\n",
            "9 桃園 1 L\n",
            "11 大同 2 L\n",
            "8 松山 1 L\n",
            "9 古亭 1 L\n",
            "11 萬華 2 L\n",
            "12 中山 2 L\n",
            "15 士林 2 L\n",
            "9 淡水 1 L\n",
            "11 林口 2 L\n",
            "10 菜寮 1 L\n",
            "13 新莊 2 L\n",
            "7 板橋 1 L\n",
            "7 土城 1 L\n",
            "10 新店 1 L\n",
            "8 萬里 1 L\n",
            "12 汐止 2 L\n",
            "9 基隆 1 L\n"
          ]
        }
      ]
    },
    {
      "cell_type": "markdown",
      "metadata": {
        "id": "K8qCd43FOHa_"
      },
      "source": [
        "# Detect prominant data\n",
        "\n",
        "通常我們有了這類的資料後，第一個想到的分析方法就是找到最嚴重、最差、變化最劇烈的地區。以下這是個非常好的例子說明要如何運用`if`和`for`找出PM2.5最高的地區。在過程中，必須要注意，原本的資料的資料型態為何，甚至要注意，原本的資料是否有缺漏。在這個案例中，我希望找出，現在PM2.5最高的是哪些站台，且把該站台列印出來。注意，我要列印的是，PM2.5最高的站台，而不是最高的PM2.5值；此外還要注意，PM2.5最高的站台可能不只一個（這時候該怎麼處理？）。\n"
      ]
    },
    {
      "cell_type": "markdown",
      "metadata": {
        "id": "TtP23jM-QVDB"
      },
      "source": [
        "## (Practice) Find the maximum\n",
        "\n",
        "找到最大值或最小值的概念：就個人的邏輯思考一下，我要怎麼找到一群數的最大值？解題邏輯：把第一個數先拿來當標準，之後確認過每個數，有沒有比這個數更大的，若有的話，最大值就是找到的那個數，沒有的話，那第一個數就是最大值。"
      ]
    },
    {
      "cell_type": "code",
      "metadata": {
        "ExecuteTime": {
          "end_time": "2020-03-23T04:49:54.180908Z",
          "start_time": "2020-03-23T04:49:54.177160Z"
        },
        "colab": {
          "base_uri": "https://localhost:8080/"
        },
        "id": "ktUTofr7OHa_",
        "outputId": "f4ad85b4-71a3-4921-92df-dd445634187b"
      },
      "source": [
        "# finding the maximum value\n",
        "alist = [5, 3, 2, 4, 1, 3, 2, 4, 7, 82, 19, 23, 42]\n",
        "\n",
        "mina, maxa = 10000, 0\n",
        "min_site, max_site = \"\", \"\"\n",
        "for site in aqdata:\n",
        "    if int(site['AQI'])> maxa:\n",
        "        maxa = int(site['AQI'])\n",
        "        max_site = site['SiteName']\n",
        "    if int(site['AQI'])< mina:\n",
        "        mina = int(site['AQI'])    \n",
        "        min_site = site['SiteName']   \n",
        "\n",
        "# mina, maxa = 100, 0\n",
        "\n",
        "#     print maxa, a\n",
        "print(min_site, mina)\n",
        "print(max_site, maxa)"
      ],
      "execution_count": null,
      "outputs": [
        {
          "name": "stdout",
          "output_type": "stream",
          "text": [
            "關山 35\n",
            "竹山 132\n"
          ]
        }
      ]
    },
    {
      "cell_type": "markdown",
      "metadata": {
        "id": "HlLKVRP4OHa_"
      },
      "source": [
        "## Use built-in functions\n",
        "\n",
        "這類比較大小的簡單功能一定都有人幫忙寫好了（如以下的例子），只要記得使用它就好。但是，要記得這樣的函式其實就是透過類似上述方法來比較大小以找到最大值。"
      ]
    },
    {
      "cell_type": "code",
      "metadata": {
        "ExecuteTime": {
          "end_time": "2020-03-23T04:49:57.965340Z",
          "start_time": "2020-03-23T04:49:57.961824Z"
        },
        "colab": {
          "base_uri": "https://localhost:8080/"
        },
        "id": "y4DYTLI6OHa_",
        "outputId": "e1290b87-1e28-4700-e74a-3da17eead480"
      },
      "source": [
        "print(min(alist), max(alist), sum(alist), len(alist), float(sum(alist))/len(alist))"
      ],
      "execution_count": null,
      "outputs": [
        {
          "name": "stdout",
          "output_type": "stream",
          "text": [
            "1 82 197 13 15.153846153846153\n"
          ]
        }
      ]
    },
    {
      "cell_type": "markdown",
      "metadata": {
        "id": "HXNiC0fXOHa_"
      },
      "source": [
        "## (Practice) Find the sites with the maximum PM2.5 value\n",
        "\n",
        "接下來我們將以上述的演算邏輯來找到PM2.5最高的那個site。我們先用上述的核心邏輯來找到最大值（下方的`max_value`）為何，然後再用一個`for`-loop把所有站台看一遍，看看哪些站台的PM2.5值等於`max_value`。"
      ]
    },
    {
      "cell_type": "code",
      "metadata": {
        "ExecuteTime": {
          "end_time": "2020-03-23T04:50:00.366591Z",
          "start_time": "2020-03-23T04:50:00.361848Z"
        },
        "id": "kmxa8n7ROHbA",
        "outputId": "2a838d31-1f66-462a-a022-d8fe9d478ef3"
      },
      "source": [
        "print(aqdata[0].keys())\n",
        "\n",
        "# Initialize a very small maximum value\n",
        "max_value = 0\n",
        "\n",
        "# Compare to see if any one larger than the maximum value\n",
        "for site in aqdata:\n",
        "    # add code here\n",
        "\n",
        "\n",
        "    \n",
        "print(\"The maximum PM2.5 value: \", max_value)\n",
        "\n",
        "# Traverse all sites by for loop to see whose value equals to the maximum PM2.5 value\n",
        "for site in aqdata:\n",
        "    if int(site['PM2.5']) == max_value:\n",
        "        print(site['SiteName'], max_value)"
      ],
      "execution_count": null,
      "outputs": [
        {
          "name": "stdout",
          "output_type": "stream",
          "text": [
            "dict_keys(['SiteName', 'County', 'AQI', 'Pollutant', 'Status', 'SO2', 'CO', 'CO_8hr', 'O3', 'O3_8hr', 'PM10', 'PM2.5', 'NO2', 'NOx', 'NO', 'WindSpeed', 'WindDirec', 'PublishTime', 'PM2.5_AVG', 'PM10_AVG', 'SO2_AVG', 'Longitude', 'Latitude', 'SiteId', 'Quality'])\n",
            "The maximum PM2.5 value:  36\n",
            "鳳山 36\n"
          ]
        }
      ]
    },
    {
      "cell_type": "markdown",
      "metadata": {
        "id": "HYBb_sQeOHbA"
      },
      "source": [
        "# Find top n"
      ]
    },
    {
      "cell_type": "markdown",
      "metadata": {
        "id": "NrhVLfZNQzf3"
      },
      "source": [
        "## (Practice) Sorted by `sorted` function\n",
        "\n",
        "下列的程式碼想法如下：\n",
        "1. 我先把所有的PM2.5的值給存起來，\n",
        "2. 存起來以後，我用`sorted()`這個函式把這些值做排序。\n",
        "3. 排序後的List我就很方便取一個閾值（最大值、前四分之一大的值或者是前三大的值）。\n",
        "4. 然後我把大於該閾值的站台都給列印出來，即為所求。"
      ]
    },
    {
      "cell_type": "code",
      "metadata": {
        "ExecuteTime": {
          "end_time": "2020-03-23T04:59:34.138897Z",
          "start_time": "2020-03-23T04:59:34.135057Z"
        },
        "id": "c68mStlZOHbA",
        "outputId": "775baf79-1af1-440d-fa75-8c266d6b32e0"
      },
      "source": [
        "## Use a list to store all PM2.5 value\n",
        "pm_list = []\n",
        "for site in aqdata:\n",
        "    # Your code should be here\n",
        "\n",
        "\n",
        "        \n",
        "## sort the list by sorted()\n",
        "pm_list = sorted(pm_list, reverse = True)\n",
        "\n",
        "print(pm_list)"
      ],
      "execution_count": null,
      "outputs": [
        {
          "name": "stdout",
          "output_type": "stream",
          "text": [
            "[36, 31, 30, 28, 27, 26, 26, 26, 26, 25, 25, 25, 24, 24, 23, 23, 23, 22, 22, 22, 22, 22, 21, 20, 20, 19, 19, 18, 17, 16, 16, 16, 15, 15, 15, 15, 15, 15, 14, 14, 14, 14, 14, 14, 14, 14, 13, 13, 13, 13, 13, 13, 13, 12, 12, 12, 12, 12, 11, 11, 11, 11, 11, 11, 10, 10, 10, 10, 10, 10, 9, 9, 9, 9, 8, 8, 8, 7, 7, 7, 7, 6, 5, 5]\n"
          ]
        }
      ]
    },
    {
      "cell_type": "markdown",
      "metadata": {
        "id": "kXv7yyQ4OHbA"
      },
      "source": [
        "## Print out the site which values are larger than the first quarter"
      ]
    },
    {
      "cell_type": "code",
      "metadata": {
        "ExecuteTime": {
          "end_time": "2020-03-23T04:59:01.851648Z",
          "start_time": "2020-03-23T04:59:01.846195Z"
        },
        "id": "HSku9IYTOHbA",
        "outputId": "22007652-642c-413e-c918-2dab3f9d7dd7"
      },
      "source": [
        "print(pm_list[int(len(pm_list)/4)])\n",
        "\n",
        "for site in aqdata:\n",
        "    if int(site['PM2.5']) >= pm_list[int(len(pm_list)/4)]:\n",
        "        print(site['SiteName'], site['PM2.5'])"
      ],
      "execution_count": null,
      "outputs": [
        {
          "name": "stdout",
          "output_type": "stream",
          "text": [
            "22\n",
            "屏東(琉球) 28\n",
            "高雄(湖內) 26\n",
            "埔里 25\n",
            "復興 30\n",
            "竹山 22\n",
            "屏東 22\n",
            "小港 26\n",
            "前鎮 24\n",
            "前金 23\n",
            "左營 25\n",
            "楠梓 23\n",
            "大寮 22\n",
            "鳳山 36\n",
            "仁武 26\n",
            "橋頭 31\n",
            "美濃 22\n",
            "臺南 26\n",
            "安南 22\n",
            "善化 24\n",
            "新營 25\n",
            "嘉義 27\n",
            "朴子 23\n"
          ]
        }
      ]
    },
    {
      "cell_type": "markdown",
      "metadata": {
        "id": "qZvs6FSMOHbB"
      },
      "source": [
        "## (Practice) Print out sites with top 3 serious values"
      ]
    },
    {
      "cell_type": "code",
      "metadata": {
        "ExecuteTime": {
          "end_time": "2020-03-23T04:58:16.977345Z",
          "start_time": "2020-03-23T04:58:16.974380Z"
        },
        "id": "AvshK16xOHbB",
        "outputId": "33078251-fde8-4010-8118-aaf3d9a58e60"
      },
      "source": [
        "# Your code should be here\n",
        "\n",
        "\n"
      ],
      "execution_count": null,
      "outputs": [
        {
          "name": "stdout",
          "output_type": "stream",
          "text": [
            "28\n",
            "復興 30\n",
            "鳳山 36\n",
            "橋頭 31\n"
          ]
        }
      ]
    },
    {
      "cell_type": "markdown",
      "metadata": {
        "id": "LA0KQZp0OHbC"
      },
      "source": [
        "## DEMO-Implement `sorted` function by sorting algorithm\n",
        "\n",
        "在前面的例子我用了一個`sorted`函式就排序了所有的PM2.5的值，那這類`sorted`函式是怎麼寫的呢？我們可以用兩層的排序演算法來達成此事。觀念很簡單：\n",
        "1. 我先抓住第一個，一一和後面比較，看看有沒有人比他大，有的話，就和後面做置換（Swap），沒有的話就不動，這樣跑過一輪，就可以保證第一個最大。\n",
        "2. 接下來抓住第二個，一一和後面比較，看看有沒有人比他大，，有的話，就和後面做置換（Swap），沒有的話就不動，這樣跑過一輪，就可以保證第二個是次大的。\n",
        "3. 依此類推。\n",
        "\n",
        "Reference\n",
        "1. https://www.geeksforgeeks.org/bubble-sort/\n",
        "2. https://en.wikipedia.org/wiki/Bubble_sort\n"
      ]
    },
    {
      "cell_type": "code",
      "metadata": {
        "id": "gphsI8eJDsRc"
      },
      "source": [
        "alist = [3, 5, 1, 3, 2, 4, 8]"
      ],
      "execution_count": null,
      "outputs": []
    },
    {
      "cell_type": "code",
      "metadata": {
        "ExecuteTime": {
          "end_time": "2020-03-23T05:03:10.051814Z",
          "start_time": "2020-03-23T05:03:10.046325Z"
        },
        "id": "egonmmd3OHbC",
        "outputId": "9c89a281-b190-4680-df77-8c5263aa9e81"
      },
      "source": [
        "pm_list = []\n",
        "site_list = []\n",
        "for site in aqdata[\"Data\"]:\n",
        "    if site['PM25'] != \"\" or site['PM25'] != \"ND\":\n",
        "        pm_list.append(int(site['PM25']))\n",
        "        site_list.append(site['SiteName'])\n",
        "        \n",
        "for i in range(len(pm_list)):\n",
        "    for j in range(i+1, len(pm_list)):\n",
        "        if pm_list[i] < pm_list[j]:\n",
        "            pm_list[i], pm_list[j] = pm_list[j], pm_list[i]\n",
        "\n",
        "print(pm_list)"
      ],
      "execution_count": null,
      "outputs": [
        {
          "name": "stdout",
          "output_type": "stream",
          "text": [
            "[46, 43, 43, 43, 41, 41, 41, 40, 40, 40, 40, 38, 38, 36, 36, 35, 33, 33, 33, 33, 32, 32, 32, 32, 32, 31, 31, 30, 29, 29, 29, 29, 28, 28, 27, 25, 24, 24, 24, 23, 22, 21, 21, 21, 21, 19, 18, 17, 17, 16, 16, 16, 15, 14, 14, 13, 12, 12, 12, 12, 11, 11, 10, 10, 10, 9, 9, 8, 7, 7, 7, -1, -1, -1, -1, -1, -1, -1, -1, -1, -1, -1, -1]\n"
          ]
        }
      ]
    },
    {
      "cell_type": "markdown",
      "metadata": {
        "id": "Qu6HdYQJc5El"
      },
      "source": [
        "# Convert Youbike data as a list of dictionary\n",
        "\n",
        "操作開放資料的時候，經常會為了方便處理，把資料轉成未來pandas可以處理的形式。而這樣的形式通常是list of dictionary。"
      ]
    },
    {
      "cell_type": "code",
      "metadata": {
        "id": "iF_FHt0Zc5El"
      },
      "source": [
        "import requests\n",
        "import json\n",
        "response = requests.get('https://tcgbusfs.blob.core.windows.net/blobyoubike/YouBikeTP.gz')\n",
        "data = json.loads(response.text)"
      ],
      "execution_count": null,
      "outputs": []
    },
    {
      "cell_type": "code",
      "metadata": {
        "id": "OnhgPO1wc5Em",
        "outputId": "e26af749-4bf8-4574-dbc5-14879105a7c6"
      },
      "source": [
        "site_list = []\n",
        "# Your code should be here\n",
        "\n",
        "\n",
        "\n",
        "\n"
      ],
      "execution_count": null,
      "outputs": [
        {
          "name": "stdout",
          "output_type": "stream",
          "text": [
            "{'sno': '0001', 'sna': '捷運市政府站(3號出口)', 'tot': '180', 'sbi': '57', 'sarea': '信義區', 'mday': '20211002114217', 'lat': '25.0408578889', 'lng': '121.567904444', 'ar': '忠孝東路/松仁路(東南側)', 'sareaen': 'Xinyi Dist.', 'snaen': 'MRT Taipei City Hall Stataion(Exit 3)-2', 'aren': 'The S.W. side of Road Zhongxiao East Road & Road Chung Yan.', 'bemp': '122', 'act': '1'}\n",
            "--------------------------------------------------------------------------------\n",
            "{'sno': '0002', 'sna': '捷運國父紀念館站(2號出口)', 'tot': '48', 'sbi': '9', 'sarea': '大安區', 'mday': '20211002114233', 'lat': '25.041254', 'lng': '121.55742', 'ar': '忠孝東路四段/光復南路口(西南側)', 'sareaen': 'Daan Dist.', 'snaen': 'MRT S.Y.S Memorial Hall Stataion(Exit 2.)', 'aren': 'Sec,4. Zhongxiao E.Rd/GuangFu S. Rd', 'bemp': '38', 'act': '1'}\n",
            "--------------------------------------------------------------------------------\n",
            "{'sno': '0003', 'sna': '台北市政府', 'tot': '40', 'sbi': '21', 'sarea': '信義區', 'mday': '20211002114244', 'lat': '25.0377972222', 'lng': '121.565169444', 'ar': '台北市政府東門(松智路) (鄰近信義商圈/台北探索館)', 'sareaen': 'Xinyi Dist.', 'snaen': 'Taipei City Hall', 'aren': 'Taipei City Government Eastgate (Song Zhi Road)', 'bemp': '19', 'act': '1'}\n",
            "--------------------------------------------------------------------------------\n"
          ]
        }
      ]
    },
    {
      "cell_type": "code",
      "metadata": {
        "id": "zWB_Pslpc5Em",
        "outputId": "ff9a1e5d-772e-4eb4-d675-750a705c8304"
      },
      "source": [
        "import pandas as pd\n",
        "pd.DataFrame(site_list)"
      ],
      "execution_count": null,
      "outputs": [
        {
          "data": {
            "text/html": [
              "<div>\n",
              "<style scoped>\n",
              "    .dataframe tbody tr th:only-of-type {\n",
              "        vertical-align: middle;\n",
              "    }\n",
              "\n",
              "    .dataframe tbody tr th {\n",
              "        vertical-align: top;\n",
              "    }\n",
              "\n",
              "    .dataframe thead th {\n",
              "        text-align: right;\n",
              "    }\n",
              "</style>\n",
              "<table border=\"1\" class=\"dataframe\">\n",
              "  <thead>\n",
              "    <tr style=\"text-align: right;\">\n",
              "      <th></th>\n",
              "      <th>sno</th>\n",
              "      <th>sna</th>\n",
              "      <th>tot</th>\n",
              "      <th>sbi</th>\n",
              "      <th>sarea</th>\n",
              "      <th>mday</th>\n",
              "      <th>lat</th>\n",
              "      <th>lng</th>\n",
              "      <th>ar</th>\n",
              "      <th>sareaen</th>\n",
              "      <th>snaen</th>\n",
              "      <th>aren</th>\n",
              "      <th>bemp</th>\n",
              "      <th>act</th>\n",
              "    </tr>\n",
              "  </thead>\n",
              "  <tbody>\n",
              "    <tr>\n",
              "      <th>0</th>\n",
              "      <td>0001</td>\n",
              "      <td>捷運市政府站(3號出口)</td>\n",
              "      <td>180</td>\n",
              "      <td>57</td>\n",
              "      <td>信義區</td>\n",
              "      <td>20211002114217</td>\n",
              "      <td>25.0408578889</td>\n",
              "      <td>121.567904444</td>\n",
              "      <td>忠孝東路/松仁路(東南側)</td>\n",
              "      <td>Xinyi Dist.</td>\n",
              "      <td>MRT Taipei City Hall Stataion(Exit 3)-2</td>\n",
              "      <td>The S.W. side of Road Zhongxiao East Road &amp; Ro...</td>\n",
              "      <td>122</td>\n",
              "      <td>1</td>\n",
              "    </tr>\n",
              "    <tr>\n",
              "      <th>1</th>\n",
              "      <td>0002</td>\n",
              "      <td>捷運國父紀念館站(2號出口)</td>\n",
              "      <td>48</td>\n",
              "      <td>9</td>\n",
              "      <td>大安區</td>\n",
              "      <td>20211002114233</td>\n",
              "      <td>25.041254</td>\n",
              "      <td>121.55742</td>\n",
              "      <td>忠孝東路四段/光復南路口(西南側)</td>\n",
              "      <td>Daan Dist.</td>\n",
              "      <td>MRT S.Y.S Memorial Hall Stataion(Exit 2.)</td>\n",
              "      <td>Sec,4. Zhongxiao E.Rd/GuangFu S. Rd</td>\n",
              "      <td>38</td>\n",
              "      <td>1</td>\n",
              "    </tr>\n",
              "    <tr>\n",
              "      <th>2</th>\n",
              "      <td>0003</td>\n",
              "      <td>台北市政府</td>\n",
              "      <td>40</td>\n",
              "      <td>21</td>\n",
              "      <td>信義區</td>\n",
              "      <td>20211002114244</td>\n",
              "      <td>25.0377972222</td>\n",
              "      <td>121.565169444</td>\n",
              "      <td>台北市政府東門(松智路) (鄰近信義商圈/台北探索館)</td>\n",
              "      <td>Xinyi Dist.</td>\n",
              "      <td>Taipei City Hall</td>\n",
              "      <td>Taipei City Government Eastgate (Song Zhi Road)</td>\n",
              "      <td>19</td>\n",
              "      <td>1</td>\n",
              "    </tr>\n",
              "    <tr>\n",
              "      <th>3</th>\n",
              "      <td>0004</td>\n",
              "      <td>市民廣場</td>\n",
              "      <td>60</td>\n",
              "      <td>12</td>\n",
              "      <td>信義區</td>\n",
              "      <td>20211002114233</td>\n",
              "      <td>25.0360361111</td>\n",
              "      <td>121.562325</td>\n",
              "      <td>市府路/松壽路(西北側)(鄰近台北101/台北世界貿易中心/台北探索館)</td>\n",
              "      <td>Xinyi Dist.</td>\n",
              "      <td>Citizen Square</td>\n",
              "      <td>The N.W. side of Road Shifu &amp; Road Song Shou.</td>\n",
              "      <td>48</td>\n",
              "      <td>1</td>\n",
              "    </tr>\n",
              "    <tr>\n",
              "      <th>4</th>\n",
              "      <td>0005</td>\n",
              "      <td>興雅國中</td>\n",
              "      <td>60</td>\n",
              "      <td>15</td>\n",
              "      <td>信義區</td>\n",
              "      <td>20211002114216</td>\n",
              "      <td>25.0365638889</td>\n",
              "      <td>121.5686639</td>\n",
              "      <td>松仁路/松仁路95巷(東南側)(鄰近信義商圈/台北信義威秀影城)</td>\n",
              "      <td>Xinyi Dist.</td>\n",
              "      <td>Xingya Jr. High School</td>\n",
              "      <td>The S.E. side of Road Songren &amp; Ln. 95, Songre...</td>\n",
              "      <td>44</td>\n",
              "      <td>1</td>\n",
              "    </tr>\n",
              "    <tr>\n",
              "      <th>...</th>\n",
              "      <td>...</td>\n",
              "      <td>...</td>\n",
              "      <td>...</td>\n",
              "      <td>...</td>\n",
              "      <td>...</td>\n",
              "      <td>...</td>\n",
              "      <td>...</td>\n",
              "      <td>...</td>\n",
              "      <td>...</td>\n",
              "      <td>...</td>\n",
              "      <td>...</td>\n",
              "      <td>...</td>\n",
              "      <td>...</td>\n",
              "      <td>...</td>\n",
              "    </tr>\n",
              "    <tr>\n",
              "      <th>394</th>\n",
              "      <td>0401</td>\n",
              "      <td>南京新生路口</td>\n",
              "      <td>24</td>\n",
              "      <td>6</td>\n",
              "      <td>中山區</td>\n",
              "      <td>20211002114217</td>\n",
              "      <td>25.051944</td>\n",
              "      <td>121.527661</td>\n",
              "      <td>新生北路一段 / 南京東路一段口(橋墩下方)(鄰近林森公園/康樂公園)</td>\n",
              "      <td>Zhongshan Dist.</td>\n",
              "      <td>Nanjing &amp; Xinsheng Intersection</td>\n",
              "      <td>Sec. 1, Xinsheng N. Rd. / Sec. 1, Nanjing E. Rd.</td>\n",
              "      <td>18</td>\n",
              "      <td>1</td>\n",
              "    </tr>\n",
              "    <tr>\n",
              "      <th>395</th>\n",
              "      <td>0402</td>\n",
              "      <td>下灣公園</td>\n",
              "      <td>28</td>\n",
              "      <td>4</td>\n",
              "      <td>內湖區</td>\n",
              "      <td>20211002114231</td>\n",
              "      <td>25.065159</td>\n",
              "      <td>121.595611</td>\n",
              "      <td>民權東路六段206巷 / 民權東路六段190巷75弄口</td>\n",
              "      <td>Neihu Dist.</td>\n",
              "      <td>Siawan Park</td>\n",
              "      <td>Ln. 206, Sec. 6, Minquan E. Rd. / Aly. 75, Ln....</td>\n",
              "      <td>14</td>\n",
              "      <td>1</td>\n",
              "    </tr>\n",
              "    <tr>\n",
              "      <th>396</th>\n",
              "      <td>0403</td>\n",
              "      <td>捷運內湖站(1號出口)</td>\n",
              "      <td>28</td>\n",
              "      <td>4</td>\n",
              "      <td>內湖區</td>\n",
              "      <td>20211002114233</td>\n",
              "      <td>25.083868</td>\n",
              "      <td>121.593929</td>\n",
              "      <td>成功路四段182巷 / 成功路四段182巷6弄口(東南側)</td>\n",
              "      <td>Neihu Dist.</td>\n",
              "      <td>MRT Neihu Sta.1(Exit.1)</td>\n",
              "      <td>Ln. 182, Sec. 4, Chenggong Rd. / Aly. 6, Ln. 1...</td>\n",
              "      <td>24</td>\n",
              "      <td>1</td>\n",
              "    </tr>\n",
              "    <tr>\n",
              "      <th>397</th>\n",
              "      <td>0404</td>\n",
              "      <td>民族延平路口</td>\n",
              "      <td>20</td>\n",
              "      <td>11</td>\n",
              "      <td>大同區</td>\n",
              "      <td>20211002114238</td>\n",
              "      <td>25.068653</td>\n",
              "      <td>121.510569</td>\n",
              "      <td>民族西路 310 號前方</td>\n",
              "      <td>Datong Dist.</td>\n",
              "      <td>Minzu &amp; Yanping Intersection</td>\n",
              "      <td>No.310, Minzu W. Rd.</td>\n",
              "      <td>9</td>\n",
              "      <td>1</td>\n",
              "    </tr>\n",
              "    <tr>\n",
              "      <th>398</th>\n",
              "      <td>0405</td>\n",
              "      <td>捷運科技大樓站(台北教育大學)</td>\n",
              "      <td>66</td>\n",
              "      <td>25</td>\n",
              "      <td>大安區</td>\n",
              "      <td>20211002114226</td>\n",
              "      <td>25.024685</td>\n",
              "      <td>121.544156</td>\n",
              "      <td>和平東路二段134號(前方)</td>\n",
              "      <td>Daan Dist.</td>\n",
              "      <td>MRT Technology Building Station</td>\n",
              "      <td>No. 134, Heping E. Rd. (front)</td>\n",
              "      <td>37</td>\n",
              "      <td>1</td>\n",
              "    </tr>\n",
              "  </tbody>\n",
              "</table>\n",
              "<p>399 rows × 14 columns</p>\n",
              "</div>"
            ],
            "text/plain": [
              "      sno              sna  tot sbi sarea            mday            lat  \\\n",
              "0    0001     捷運市政府站(3號出口)  180  57   信義區  20211002114217  25.0408578889   \n",
              "1    0002   捷運國父紀念館站(2號出口)   48   9   大安區  20211002114233      25.041254   \n",
              "2    0003            台北市政府   40  21   信義區  20211002114244  25.0377972222   \n",
              "3    0004             市民廣場   60  12   信義區  20211002114233  25.0360361111   \n",
              "4    0005             興雅國中   60  15   信義區  20211002114216  25.0365638889   \n",
              "..    ...              ...  ...  ..   ...             ...            ...   \n",
              "394  0401           南京新生路口   24   6   中山區  20211002114217      25.051944   \n",
              "395  0402             下灣公園   28   4   內湖區  20211002114231      25.065159   \n",
              "396  0403      捷運內湖站(1號出口)   28   4   內湖區  20211002114233      25.083868   \n",
              "397  0404           民族延平路口   20  11   大同區  20211002114238      25.068653   \n",
              "398  0405  捷運科技大樓站(台北教育大學)   66  25   大安區  20211002114226      25.024685   \n",
              "\n",
              "               lng                                    ar          sareaen  \\\n",
              "0    121.567904444                         忠孝東路/松仁路(東南側)      Xinyi Dist.   \n",
              "1        121.55742                     忠孝東路四段/光復南路口(西南側)       Daan Dist.   \n",
              "2    121.565169444           台北市政府東門(松智路) (鄰近信義商圈/台北探索館)      Xinyi Dist.   \n",
              "3       121.562325  市府路/松壽路(西北側)(鄰近台北101/台北世界貿易中心/台北探索館)      Xinyi Dist.   \n",
              "4      121.5686639      松仁路/松仁路95巷(東南側)(鄰近信義商圈/台北信義威秀影城)      Xinyi Dist.   \n",
              "..             ...                                   ...              ...   \n",
              "394     121.527661   新生北路一段 / 南京東路一段口(橋墩下方)(鄰近林森公園/康樂公園)  Zhongshan Dist.   \n",
              "395     121.595611           民權東路六段206巷 / 民權東路六段190巷75弄口      Neihu Dist.   \n",
              "396     121.593929         成功路四段182巷 / 成功路四段182巷6弄口(東南側)      Neihu Dist.   \n",
              "397     121.510569                          民族西路 310 號前方     Datong Dist.   \n",
              "398     121.544156                        和平東路二段134號(前方)       Daan Dist.   \n",
              "\n",
              "                                         snaen  \\\n",
              "0      MRT Taipei City Hall Stataion(Exit 3)-2   \n",
              "1    MRT S.Y.S Memorial Hall Stataion(Exit 2.)   \n",
              "2                             Taipei City Hall   \n",
              "3                               Citizen Square   \n",
              "4                       Xingya Jr. High School   \n",
              "..                                         ...   \n",
              "394            Nanjing & Xinsheng Intersection   \n",
              "395                                Siawan Park   \n",
              "396                    MRT Neihu Sta.1(Exit.1)   \n",
              "397               Minzu & Yanping Intersection   \n",
              "398            MRT Technology Building Station   \n",
              "\n",
              "                                                  aren bemp act  \n",
              "0    The S.W. side of Road Zhongxiao East Road & Ro...  122   1  \n",
              "1                  Sec,4. Zhongxiao E.Rd/GuangFu S. Rd   38   1  \n",
              "2      Taipei City Government Eastgate (Song Zhi Road)   19   1  \n",
              "3        The N.W. side of Road Shifu & Road Song Shou.   48   1  \n",
              "4    The S.E. side of Road Songren & Ln. 95, Songre...   44   1  \n",
              "..                                                 ...  ...  ..  \n",
              "394   Sec. 1, Xinsheng N. Rd. / Sec. 1, Nanjing E. Rd.   18   1  \n",
              "395  Ln. 206, Sec. 6, Minquan E. Rd. / Aly. 75, Ln....   14   1  \n",
              "396  Ln. 182, Sec. 4, Chenggong Rd. / Aly. 6, Ln. 1...   24   1  \n",
              "397                               No.310, Minzu W. Rd.    9   1  \n",
              "398                     No. 134, Heping E. Rd. (front)   37   1  \n",
              "\n",
              "[399 rows x 14 columns]"
            ]
          },
          "execution_count": 7,
          "metadata": {},
          "output_type": "execute_result"
        }
      ]
    }
  ]
}