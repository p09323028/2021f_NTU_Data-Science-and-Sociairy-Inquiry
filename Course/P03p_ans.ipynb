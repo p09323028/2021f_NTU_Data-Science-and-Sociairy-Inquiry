{
  "nbformat": 4,
  "nbformat_minor": 0,
  "metadata": {
    "kernelspec": {
      "display_name": "Python 3 (ipykernel)",
      "language": "python",
      "name": "python3"
    },
    "language_info": {
      "codemirror_mode": {
        "name": "ipython",
        "version": 3
      },
      "file_extension": ".py",
      "mimetype": "text/x-python",
      "name": "python",
      "nbconvert_exporter": "python",
      "pygments_lexer": "ipython3",
      "version": "3.8.12"
    },
    "colab": {
      "name": "P03p_ans.ipynb",
      "provenance": [],
      "collapsed_sections": []
    }
  },
  "cells": [
    {
      "cell_type": "markdown",
      "metadata": {
        "id": "5bgvGePscrC4"
      },
      "source": [
        "<a href=\"https://colab.research.google.com/github/P4CSS/PSS/blob/master/P03p_ans.ipynb\" target=\"_parent\"><img src=\"https://colab.research.google.com/assets/colab-badge.svg\" alt=\"Open In Colab\"/></a>"
      ]
    },
    {
      "cell_type": "markdown",
      "metadata": {
        "id": "ahTHPRRwcrC8"
      },
      "source": [
        "# P03p_1: Counting ubike site number of each area\n",
        "\n",
        "現在我們已經可以用簡單的for-loop逐一跑過所有的ubike即時資料。我們可以結合P01的Counting來計算一下每個行政區有多少個ubike site。"
      ]
    },
    {
      "cell_type": "markdown",
      "metadata": {
        "id": "SjIwRlVocrC9"
      },
      "source": [
        "## Getting data"
      ]
    },
    {
      "cell_type": "code",
      "metadata": {
        "id": "eLVrhkkMcrC9",
        "outputId": "6f99e7bf-d209-4a03-9cf6-c41ee1af4043"
      },
      "source": [
        "# import requests library to send web query\n",
        "import requests\n",
        "\n",
        "# import json library to parse json format\n",
        "import json\n",
        "\n",
        "response = requests.get('https://tcgbusfs.blob.core.windows.net/blobyoubike/YouBikeTP.gz')\n",
        "print(type(response)) # <class 'requests.models.Response'>\n",
        "print(type(response.text)) # <class 'str'>\n",
        "data = json.loads(response.text)\n",
        "print(type(data))"
      ],
      "execution_count": null,
      "outputs": [
        {
          "name": "stdout",
          "output_type": "stream",
          "text": [
            "<class 'requests.models.Response'>\n",
            "<class 'str'>\n",
            "<class 'dict'>\n"
          ]
        }
      ]
    },
    {
      "cell_type": "markdown",
      "metadata": {
        "id": "mNZneNP-crC_"
      },
      "source": [
        "## Counting sites by area"
      ]
    },
    {
      "cell_type": "code",
      "metadata": {
        "id": "KakxdMb1crC_",
        "outputId": "21c1662e-f8e5-4774-cdd5-2dd83954b43f"
      },
      "source": [
        "area_dict = {}\n",
        "for key in data['retVal'].keys():\n",
        "    if data['retVal'][key]['sarea'] not in area_dict:\n",
        "        area_dict[data['retVal'][key]['sarea']] = 1\n",
        "    else:\n",
        "        area_dict[data['retVal'][key]['sarea']] += 1\n",
        "\n",
        "for k, n in area_dict.items():\n",
        "    print(k, n)"
      ],
      "execution_count": null,
      "outputs": [
        {
          "name": "stdout",
          "output_type": "stream",
          "text": [
            "信義區 38\n",
            "大安區 48\n",
            "中山區 46\n",
            "松山區 34\n",
            "南港區 22\n",
            "中正區 34\n",
            "萬華區 22\n",
            "文山區 27\n",
            "大同區 22\n",
            "士林區 36\n",
            "內湖區 42\n",
            "北投區 28\n"
          ]
        }
      ]
    },
    {
      "cell_type": "markdown",
      "metadata": {
        "id": "o-2WGzMrcrDA"
      },
      "source": [
        "## Method 2\n",
        "我可以用`items()`一次取出一對key-value pair，但因為是(key, value)的型態，所以我for-loop前面要用兩個參數去接每一對數值，我將之命名為`key, row`。如果這樣寫，if-else中的表示式就可以跟著改。我不用一定要用`key`才能存取dictionary中的資料，我可以直接用後面的row，也就是key所對應到的value來取用dictionary中的資料。"
      ]
    },
    {
      "cell_type": "code",
      "metadata": {
        "id": "7pDFt-a2crDB",
        "outputId": "456d9d77-6219-4e20-ce1e-22d786240c66"
      },
      "source": [
        "area_dict = {}\n",
        "for key, row in data[\"retVal\"].items():\n",
        "    if row[\"sarea\"] not in area_dict:\n",
        "        area_dict[row[\"sarea\"]] = 1\n",
        "    else:\n",
        "        area_dict[row[\"sarea\"]] += 1\n",
        "area_dict"
      ],
      "execution_count": null,
      "outputs": [
        {
          "data": {
            "text/plain": [
              "{'信義區': 38,\n",
              " '大安區': 48,\n",
              " '中山區': 46,\n",
              " '松山區': 34,\n",
              " '南港區': 22,\n",
              " '中正區': 34,\n",
              " '萬華區': 22,\n",
              " '文山區': 27,\n",
              " '大同區': 22,\n",
              " '士林區': 36,\n",
              " '內湖區': 42,\n",
              " '北投區': 28}"
            ]
          },
          "execution_count": 19,
          "metadata": {},
          "output_type": "execute_result"
        }
      ]
    },
    {
      "cell_type": "markdown",
      "metadata": {
        "id": "L97kQfSdcrDB"
      },
      "source": [
        "# P03p_2: Traversing json data\n",
        "\n",
        "以下為存取環保署開放資料平台空品資料的API連結與方法，請仿照Trace Youbike data的方法依序回答以下兩個問題。"
      ]
    },
    {
      "cell_type": "code",
      "metadata": {
        "id": "sa2W_YZEcrDC",
        "outputId": "3b7c7b48-f889-4a27-8272-bd5b6d591ef4"
      },
      "source": [
        "import requests\n",
        "import json\n",
        "url = \" https://opendata.epa.gov.tw/api/v1/AQI?%24skip=0&%24top=1000&%24format=json\"\n",
        "response = requests.get(url)\n",
        "aqdata = json.loads(response.text)\n",
        "print(type(aqdata))"
      ],
      "execution_count": null,
      "outputs": [
        {
          "name": "stdout",
          "output_type": "stream",
          "text": [
            "<class 'list'>\n"
          ]
        }
      ]
    },
    {
      "cell_type": "markdown",
      "metadata": {
        "id": "kRdQE0_bcrDD"
      },
      "source": [
        "## P03_practice_1: Accessing list\n",
        "\n",
        "請Access該筆資料列印出第一個站台的站台名稱為何？"
      ]
    },
    {
      "cell_type": "code",
      "metadata": {
        "id": "pdZx9wcwcrDD",
        "outputId": "3f626414-ac61-47e9-c051-0e078179e30c"
      },
      "source": [
        "aqdata[0]['SiteName']"
      ],
      "execution_count": null,
      "outputs": [
        {
          "data": {
            "text/plain": [
              "'屏東(建興)'"
            ]
          },
          "execution_count": 9,
          "metadata": {},
          "output_type": "execute_result"
        }
      ]
    },
    {
      "cell_type": "markdown",
      "metadata": {
        "id": "bmhCHrqQcrDD"
      },
      "source": [
        "##  P03_practice_2: Checking data type\n",
        "\n",
        "請Access空品資料的任一筆資料，觀察資料內容，用程式列印出AQI的Data type為何？"
      ]
    },
    {
      "cell_type": "code",
      "metadata": {
        "id": "Hlaytp4IcrDE",
        "outputId": "86f57bbd-7cba-4614-c849-02e9e01fdbcc"
      },
      "source": [
        "type(aqdata[0]['AQI'])"
      ],
      "execution_count": null,
      "outputs": [
        {
          "data": {
            "text/plain": [
              "str"
            ]
          },
          "execution_count": 11,
          "metadata": {},
          "output_type": "execute_result"
        }
      ]
    },
    {
      "cell_type": "markdown",
      "metadata": {
        "id": "GVvgXup_crDE"
      },
      "source": [
        "## P03_practice_3: playing markdown format\n",
        "（這題當你for-if非常不熟的時候鐵定不會做，但你可以看看Answer來了解一下為何要出這一題。）\n",
        "1. 新增一個Code Cell並印出測站「三重」的AQI\n",
        "2. 新增一個markdown cell嘗試說明，你認為若要從上述資料存取方法方不方便？你覺得就dictionary或list的結構來說，要怎樣才會比較方便？"
      ]
    },
    {
      "cell_type": "code",
      "metadata": {
        "id": "b3MPaRw7crDE",
        "outputId": "925a86a9-aa18-47e7-8e2f-f83594511ac3"
      },
      "source": [
        "for site in aqdata:\n",
        "    if site['SiteName'] == '三重': \n",
        "        print(site['AQI'])   "
      ],
      "execution_count": null,
      "outputs": [
        {
          "name": "stdout",
          "output_type": "stream",
          "text": [
            "49\n"
          ]
        }
      ]
    },
    {
      "cell_type": "markdown",
      "metadata": {
        "id": "0VoLWrkGcrDF"
      },
      "source": [
        "ANS: 應該要有一個key為站台名稱的dictionary來存取才會比較容易。直接存取該站名的各種資料。"
      ]
    }
  ]
}