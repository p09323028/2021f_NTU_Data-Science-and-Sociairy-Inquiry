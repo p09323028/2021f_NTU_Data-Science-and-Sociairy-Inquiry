{
  "nbformat": 4,
  "nbformat_minor": 0,
  "metadata": {
    "orig_nbformat": 4,
    "colab": {
      "name": "AS02_list_dict_for_if.ipynb",
      "provenance": [],
      "collapsed_sections": [],
      "include_colab_link": true
    },
    "kernelspec": {
      "display_name": "Python 3 (ipykernel)",
      "language": "python",
      "name": "python3"
    },
    "language_info": {
      "name": "python",
      "version": "3.7.10",
      "mimetype": "text/x-python",
      "codemirror_mode": {
        "name": "ipython",
        "version": 3
      },
      "pygments_lexer": "ipython3",
      "nbconvert_exporter": "python",
      "file_extension": ".py"
    },
    "toc": {
      "base_numbering": 1,
      "nav_menu": {},
      "number_sections": true,
      "sideBar": true,
      "skip_h1_title": false,
      "title_cell": "Table of Contents",
      "title_sidebar": "Contents",
      "toc_cell": true,
      "toc_position": {},
      "toc_section_display": true,
      "toc_window_display": true
    }
  },
  "cells": [
    {
      "cell_type": "markdown",
      "metadata": {
        "id": "view-in-github",
        "colab_type": "text"
      },
      "source": [
        "<a href=\"https://colab.research.google.com/github/p09323028/2021f_NTU_Data-Science-and-Social-Inquiry/blob/main/Assignments/AS02_list_dict_for_if.ipynb\" target=\"_parent\"><img src=\"https://colab.research.google.com/assets/colab-badge.svg\" alt=\"Open In Colab\"/></a>"
      ]
    },
    {
      "cell_type": "markdown",
      "metadata": {
        "id": "iiMwv5fb01PH"
      },
      "source": [
        "# Q1 Pre-Processing Youbike data"
      ]
    },
    {
      "cell_type": "code",
      "metadata": {
        "id": "jviuL0hgrrZI",
        "trusted": true
      },
      "source": [
        "# Getting youtube data\n",
        "import requests\n",
        "import json\n",
        "response = requests.get('https://tcgbusfs.blob.core.windows.net/blobyoubike/YouBikeTP.gz')\n",
        "data = json.loads(response.text)"
      ],
      "execution_count": null,
      "outputs": []
    },
    {
      "cell_type": "markdown",
      "metadata": {
        "id": "9jc47vviq7Hf"
      },
      "source": [
        "## Q1_Code: Using site name as dict id \n",
        "\n",
        "1. 原本的Youbike data除了第一層有`retCode`和`retVal`外，在`retVal`所對應到的資料中，是以`sno`也就是駐車站編號作為dict的key。我希望把整筆資料轉個型態，仍保持dict of dict，但最外層的dictionary裡面的每個key是站台「中文名稱」，並以`site_dict`來作為新的dictionary的變數名稱。\n",
        "\n",
        "2. 除此之外，請參考下列資料，嘗試移除幾個儲存英文站名、英文區域和英文地址的keys與values，有`['sareaen', 'snaen', 'aren']`。參考資料：[Removing multiple keys from a dictionary safely (stackoverflow)](https://stackoverflow.com/questions/8995611/removing-multiple-keys-from-a-dictionary-safely)"
      ]
    },
    {
      "cell_type": "code",
      "metadata": {
        "id": "CmW91nT5tZcF",
        "trusted": true
      },
      "source": [
        "site_dict = {}  # Using this as new dict name\n",
        "en_keys = ['sareaen', 'snaen', 'aren']\n",
        "\n",
        "# Your code should go here\n",
        "for i in data[\"retVal\"].keys():\n",
        "    site_dict[data[\"retVal\"][i][\"sna\"]] = data[\"retVal\"][i]\n",
        "for i in site_dict.keys():\n",
        "    for k in en_keys:\n",
        "        site_dict[i].pop(k, None)"
      ],
      "execution_count": null,
      "outputs": []
    },
    {
      "cell_type": "markdown",
      "metadata": {
        "id": "2f_A9HOZtja7"
      },
      "source": [
        "## Q1_Verification: Print out the key of the outermost dictionary\n",
        "\n",
        "執行以下程式碼以驗證你的程式撰寫是否成功。你不能更動以下Cell的Code，僅能在上面的Cell撰寫程式，使得以下的Code列印出來的資料與預期相同。助教會看這個Cell的結果來判斷你是否達到題目要求。\n",
        "\n",
        "預期結果如下：\n",
        "`['捷運市政府站(3號出口)', '捷運國父紀念館站(2號出口)', '台北市政府', '市民廣場', '興雅國中', '臺北南山廣場', '信義廣場(台北101)', '世貿三館', '松德站', '台北市災害應變中心']\n",
        "`"
      ]
    },
    {
      "cell_type": "code",
      "metadata": {
        "colab": {
          "base_uri": "https://localhost:8080/"
        },
        "id": "H2tIfGb11zKJ",
        "trusted": true,
        "outputId": "867efc44-d5ce-431b-b2e3-1ce9c46d1336"
      },
      "source": [
        "print(list(site_dict.keys())[:10])"
      ],
      "execution_count": null,
      "outputs": [
        {
          "name": "stdout",
          "text": "['捷運市政府站(3號出口)', '捷運國父紀念館站(2號出口)', '台北市政府', '市民廣場', '興雅國中', '臺北南山廣場', '信義廣場(台北101)', '世貿三館', '松德站', '台北市災害應變中心']\n",
          "output_type": "stream"
        }
      ]
    },
    {
      "cell_type": "markdown",
      "metadata": {
        "id": "P3rG0rxSuRnR"
      },
      "source": [
        "## Q1_Verification: Print out keys of site's data\n",
        "\n",
        "執行以下程式碼以驗證你的程式撰寫是否成功。你不能更動以下Cell的Code，僅能在上面的Cell撰寫程式，使得以下的Code列印出來的資料與預期相同。預期結果如下：`dict_keys(['sno', 'sna', 'tot', 'sbi', 'sarea', 'mday', 'lat', 'lng', 'ar', 'bemp', 'act'])\n",
        "`"
      ]
    },
    {
      "cell_type": "code",
      "metadata": {
        "colab": {
          "base_uri": "https://localhost:8080/"
        },
        "id": "UYoIKscd116X",
        "trusted": true,
        "outputId": "d6af28ca-2a36-4645-8955-c9f1462f4ec5"
      },
      "source": [
        "site_dict['捷運市政府站(3號出口)'].keys()"
      ],
      "execution_count": null,
      "outputs": [
        {
          "execution_count": 4,
          "output_type": "execute_result",
          "data": {
            "text/plain": "dict_keys(['sno', 'sna', 'tot', 'sbi', 'sarea', 'mday', 'lat', 'lng', 'ar', 'bemp', 'act'])"
          },
          "metadata": {}
        }
      ]
    },
    {
      "cell_type": "markdown",
      "metadata": {
        "id": "KDJT6w7nro03"
      },
      "source": [
        "# Q2 Calculating the fullness of each youbike site\n",
        "\n",
        "\n",
        "## Q2_1 : Inserting a new indicator fullness for each site\n",
        "\n",
        "建立一個新的指標`perc = sbi/tot`，為現有單車數(`sbi`)除以總單車格數（`tot`）作為滿站的比例，並希望在每個駐車站的資料中多一個key為`perc`來存放滿站比例。你可以接續上題作，或者回到原本撈回來的資料做。\n",
        "\n",
        "例如\n",
        "```\n",
        "{ '捷運市政府站(3號出口)':{\n",
        "    'sna': '捷運市政府站(3號出口)', \n",
        "    'sno': ...,\n",
        "    'tot': ...,\n",
        "    'sbi': ..., \n",
        "    'perc': ...,\n",
        "    ...},\n",
        "    ...\n",
        "}\n",
        "```"
      ]
    },
    {
      "cell_type": "code",
      "metadata": {
        "id": "awYVPUw2yClq",
        "trusted": true
      },
      "source": [
        "# Your code should be here\n",
        "for s in site_dict.keys():\n",
        "    site_dict[s]['perc'] = float(site_dict[s]['sbi']) / float(site_dict[s]['tot'])"
      ],
      "execution_count": null,
      "outputs": []
    },
    {
      "cell_type": "markdown",
      "metadata": {
        "tags": [],
        "id": "CYjkz4vz1eoe"
      },
      "source": [
        "## Q2_1: Verification\n",
        "* 列印出任意10個站台的perc。必須同時列印出每個站台的sna, sbi, tot, perc\n",
        "* 請盡可能地印出類似下面的格式，以了解如何使用`.format()`或`%d`等來控制列印輸出格式。"
      ]
    },
    {
      "cell_type": "code",
      "metadata": {
        "id": "rYgAZDcZ1eoe",
        "colab": {
          "base_uri": "https://localhost:8080/"
        },
        "trusted": true,
        "outputId": "b1b063c4-9bdf-4ab6-e995-49c369e996d3"
      },
      "source": [
        "# Your code should be here\n",
        "for i, s in enumerate(site_dict.keys()):\n",
        "    if i < 10:\n",
        "        print('{:<13} \\t {:>3} \\t {:>3} \\t {:.2f}'.format(s, site_dict[s]['tot'], site_dict[s]['sbi'], site_dict[s]['perc']))"
      ],
      "execution_count": null,
      "outputs": [
        {
          "name": "stdout",
          "text": "捷運市政府站(3號出口)  \t 180 \t   0 \t 0.00\n捷運國父紀念館站(2號出口) \t  48 \t   5 \t 0.10\n台北市政府         \t  40 \t  24 \t 0.60\n市民廣場          \t  60 \t  35 \t 0.58\n興雅國中          \t  60 \t  24 \t 0.40\n臺北南山廣場        \t  80 \t  46 \t 0.57\n信義廣場(台北101)   \t  80 \t   9 \t 0.11\n世貿三館          \t  60 \t  32 \t 0.53\n松德站           \t  40 \t  21 \t 0.53\n台北市災害應變中心     \t  54 \t   4 \t 0.07\n",
          "output_type": "stream"
        }
      ]
    },
    {
      "cell_type": "markdown",
      "metadata": {
        "id": "u_CLG0BIrqhk"
      },
      "source": [
        "## Q2_2 (Code + Output verification): 列印出`perc`(fullness)最高的站\n",
        "\n",
        "用`for-loop`和`if-else`找出`perc`(fullness)最高的駐車站，並印出其站名和`perc`數值，以及時間。<br>\n",
        "\n",
        "註：本題不可使用內建或者第三方的sorting函式。"
      ]
    },
    {
      "cell_type": "code",
      "metadata": {
        "id": "cELbhh1myJLG",
        "colab": {
          "base_uri": "https://localhost:8080/"
        },
        "trusted": true,
        "outputId": "92338c99-4e27-419a-df92-8531f20bfb52"
      },
      "source": [
        "fullest_sna = \"\"\n",
        "fullest_perc = 0.0\n",
        "fullest_time = \"\"\n",
        "\n",
        "# Your code should be here\n",
        "for s in site_dict.keys():\n",
        "    if site_dict[s]['perc'] > fullest_perc:\n",
        "        fullest_time = site_dict[s]['mday']\n",
        "        fullest_perc = site_dict[s]['perc']\n",
        "        fullest_sna = site_dict[s]['sna']\n",
        "\n",
        "print(\"At %s, the highest perc is %f (Station: %s)\"%(fullest_time, fullest_perc, fullest_sna))"
      ],
      "execution_count": null,
      "outputs": [
        {
          "name": "stdout",
          "text": "At 20211015115223, the highest perc is 1.000000 (Station: 基河一期國宅)\n",
          "output_type": "stream"
        }
      ]
    },
    {
      "cell_type": "markdown",
      "metadata": {
        "id": "xJyWK69h44qu"
      },
      "source": [
        "## Q2_3 (Code + Output verification 2): Top 10\n",
        "\n",
        "用內建或第三方的sorting函式，將`perc`(fullness)按照full to empty排序，用for-loop列印出，`perc`最高的10個駐車站的`sna`、`perc`、`tot`、`sbi`(（請善用printing formation和`\\t`將之對齊排列好，但不用照高低順序）。"
      ]
    },
    {
      "cell_type": "code",
      "metadata": {
        "colab": {
          "base_uri": "https://localhost:8080/"
        },
        "id": "yuSjud0j8AW7",
        "trusted": true,
        "outputId": "d3e0bf77-bdc9-44cf-b320-2a26ccea446f"
      },
      "source": [
        "site_lst = []\n",
        "\n",
        "# Your code should be here\n",
        "for s in site_dict.keys():\n",
        "    site_lst.append([site_dict[s]['sna'], site_dict[s]['perc'], site_dict[s]['tot'], site_dict[s]['sbi']])\n",
        "\n",
        "site_lst = sorted(site_lst, key = lambda lst: lst[1], reverse=True)\n",
        "\n",
        "for i in range(0, 10):\n",
        "    print('{:<12} \\t {} \\t {} \\t {:.2f}'.format(site_lst[i][0], site_lst[i][3], site_lst[i][2], site_lst[i][1]))  "
      ],
      "execution_count": null,
      "outputs": [
        {
          "name": "stdout",
          "text": "基河一期國宅       \t 30 \t 30 \t 1.00\n春光公園         \t 37 \t 38 \t 0.97\n復興市民路口       \t 35 \t 36 \t 0.97\n八德中坡路口       \t 35 \t 38 \t 0.92\n天母運動公園       \t 38 \t 44 \t 0.86\n捷運昆陽站(1號出口)  \t 35 \t 42 \t 0.83\n景華街128巷口     \t 15 \t 18 \t 0.83\n民生活動中心       \t 26 \t 32 \t 0.81\n捷運永春站(2號出口)  \t 24 \t 30 \t 0.80\n捷運大直站(3號出口)  \t 24 \t 30 \t 0.80\n",
          "output_type": "stream"
        }
      ]
    },
    {
      "cell_type": "markdown",
      "metadata": {
        "id": "ig_fUYG21eoh"
      },
      "source": [
        "# Q3: Categorizing fullness\n",
        "\n",
        "當要建立回歸模型來預測腳踏車的滿站程度時，我們需要的可能是上述的`perc`來作為依變項Y；但我如果只是要仿照Youbike地圖，用顏色來標示出滿站程度時（如https://taipei.youbike.com.tw/station/map） ，就需要將`perc`按數值分區。"
      ]
    },
    {
      "cell_type": "markdown",
      "metadata": {
        "id": "_JWFYfTv6r9u"
      },
      "source": [
        "## Q3_2 (Code and Output Verification)\n",
        "\n",
        "設計if-else搭配for-loop來計算每個資料區間各有多少個腳踏車站台。一共分成以下幾個label。\n",
        "- full: perc = 1.0，\n",
        "- empty: perc = 0.0, \n",
        "- few: 0.0 < perc <0.3\n",
        "- general: 0.3 <= perc < 0.7\n",
        "- many: 0.7 <=  perc < 1.0\n",
        "請在每個站台的dictionary中新增一個key為label，然後用Counting來累計並**列印出**當時刻full, empty, few, general, many各有多少個站台。\n",
        "\n",
        "範例輸出（可能因為不同時間而數量不同）\n",
        "```\n",
        "few 173\n",
        "general 152\n",
        "empty 44\n",
        "many 30\n",
        "```"
      ]
    },
    {
      "cell_type": "code",
      "metadata": {
        "id": "6o0PQ9WY1eoh",
        "colab": {
          "base_uri": "https://localhost:8080/"
        },
        "trusted": true,
        "outputId": "2d302edb-640f-46cd-876d-9856d40fabc0"
      },
      "source": [
        "# Your code should be here\n",
        "perc_category_lst = []\n",
        "for i in range(0, len(site_lst)):\n",
        "    if site_lst[i][1] == 1.0:\n",
        "        perc_category_lst.append('full')\n",
        "    elif site_lst[i][1] >= 0.7:\n",
        "        perc_category_lst.append('many')\n",
        "    elif site_lst[i][1] >= 0.3:\n",
        "        perc_category_lst.append('general')\n",
        "    elif site_lst[i][1] > 0:\n",
        "        perc_category_lst.append('few')\n",
        "    elif site_lst[i][1] == 0:\n",
        "        perc_category_lst.append('empty')\n",
        "    else:\n",
        "        perc_category_lst.append('ERROR')\n",
        "\n",
        "def printout(category):\n",
        "    print(category + ' ' + str(perc_category_lst.count(category)))\n",
        "    return None\n",
        "\n",
        "# printout('full')\n",
        "printout('few')\n",
        "printout('general')\n",
        "printout('empty')\n",
        "printout('many')\n",
        "# print(len(perc_category_lst))"
      ],
      "execution_count": null,
      "outputs": [
        {
          "name": "stdout",
          "text": "few 167\ngeneral 175\nempty 33\nmany 23\n",
          "output_type": "stream"
        }
      ]
    },
    {
      "cell_type": "markdown",
      "metadata": {
        "id": "nNElDPMu1eoi"
      },
      "source": [
        "# Q4_e 自然常數的泰勒展式\n",
        "* e ≈ 2.71828 18284 59045 23536\n",
        "* ![picture](https://i.imgur.com/vv6rEvq.png)"
      ]
    },
    {
      "cell_type": "code",
      "metadata": {
        "id": "p5Q4yKHe1eoi",
        "colab": {
          "base_uri": "https://localhost:8080/"
        },
        "trusted": true,
        "outputId": "47855776-45bd-422e-c367-8dbf5498b9a5"
      },
      "source": [
        "e = 1\n",
        "fact = 1\n",
        "for i in range(1, 1000):\n",
        "    # Your code should be here\n",
        "    fact *= i\n",
        "    e += 1 ** i / (fact)\n",
        "\n",
        "print(e)        "
      ],
      "execution_count": null,
      "outputs": [
        {
          "name": "stdout",
          "text": "2.7182818284590455\n",
          "output_type": "stream"
        }
      ]
    }
  ]
}